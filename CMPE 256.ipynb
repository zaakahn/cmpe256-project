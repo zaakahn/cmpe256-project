{
  "nbformat": 4,
  "nbformat_minor": 0,
  "metadata": {
    "accelerator": "GPU",
    "colab": {
      "name": "ProjectEval (2).ipynb",
      "provenance": [],
      "collapsed_sections": [],
      "toc_visible": true,
      "machine_shape": "hm"
    },
    "kernelspec": {
      "display_name": "venv-3.6-gpu",
      "language": "python",
      "name": "venv-3.6-gpu"
    },
    "language_info": {
      "codemirror_mode": {
        "name": "ipython",
        "version": 3
      },
      "file_extension": ".py",
      "mimetype": "text/x-python",
      "name": "python",
      "nbconvert_exporter": "python",
      "pygments_lexer": "ipython3",
      "version": "3.6.6"
    }
  },
  "cells": [
    {
      "cell_type": "markdown",
      "metadata": {
        "id": "H_r0LzM3A0TH"
      },
      "source": [
        "# To build a recommender system that matches users for a trade based on their wanted and selling list"
      ]
    },
    {
      "cell_type": "code",
      "metadata": {
        "id": "kT_UO5KVz0Oa"
      },
      "source": [
        "#  %cd /content/drive/MyDrive/CMPE_256_Project\n",
        "#  ! git clone https://github.com/swapit/code.git"
      ],
      "execution_count": null,
      "outputs": []
    },
    {
      "cell_type": "markdown",
      "metadata": {
        "id": "XNvOUPpUA0Tg"
      },
      "source": [
        "## Required Imports"
      ]
    },
    {
      "cell_type": "code",
      "metadata": {
        "id": "_O4-UnFkxt0X",
        "outputId": "ed14e1c5-c43b-4864-d6f2-74e698c70d0a"
      },
      "source": [
        "import numpy as np\n",
        "import sklearn as sk\n",
        "import pandas as pd\n",
        "from sklearn.model_selection import train_test_split\n",
        "import random"
      ],
      "execution_count": null,
      "outputs": [
        {
          "output_type": "stream",
          "text": [
            "/home/015266823/venv/lib/python3.6/site-packages/pandas/compat/__init__.py:120: UserWarning: Could not import the lzma module. Your installed Python is incomplete. Attempting to use lzma compression will result in a RuntimeError.\n",
            "  warnings.warn(msg)\n"
          ],
          "name": "stderr"
        }
      ]
    },
    {
      "cell_type": "code",
      "metadata": {
        "colab": {
          "base_uri": "https://localhost:8080/"
        },
        "id": "OBMwD98OUpOn",
        "outputId": "8120aa9d-fdd8-4e60-f2fb-ee04d6e8fb23"
      },
      "source": [
        "print(pd.__version__)"
      ],
      "execution_count": null,
      "outputs": [
        {
          "output_type": "stream",
          "text": [
            "1.1.5\n"
          ],
          "name": "stdout"
        }
      ]
    },
    {
      "cell_type": "markdown",
      "metadata": {
        "id": "QR26olreA0MR"
      },
      "source": [
        "# Preprocessing"
      ]
    },
    {
      "cell_type": "code",
      "metadata": {
        "id": "8cEacH3SHfRV"
      },
      "source": [
        "DATA_PATH = \"/home/015266823/bookmooch/bm1y\"\n",
        "\n",
        "def read_data_into_dfs(path):\n",
        "  have_df = pd.read_csv(f\"{DATA_PATH}/have.csv\", names=[\"user_id\", \"item_id\", \"unix_timestamp\"])\n",
        "  wish_df = pd.read_csv(f\"{DATA_PATH}/wish.csv\", names=[\"user_id\", \"item_id\", \"unix_timestamp\"])\n",
        "  pairs_df = pd.read_csv(f\"{DATA_PATH}/pairs.csv\", names=[\"user1_id\", \"item1_id\", \"user2_id\", \"item2_id\"])\n",
        "  transac_df = pd.read_csv(f\"{DATA_PATH}/transac.csv\", names=[\"giver_user_id\", \"receiver_user_id\", \"item_id\", \"unix_timestamp\"])\n",
        "  return have_df, wish_df, pairs_df, transac_df\n",
        "\n",
        "have_df, wish_df, pairs_df, transac_df = read_data_into_dfs(DATA_PATH)"
      ],
      "execution_count": null,
      "outputs": []
    },
    {
      "cell_type": "code",
      "metadata": {
        "colab": {
          "base_uri": "https://localhost:8080/",
          "height": 80
        },
        "id": "qw6gJIpizscX",
        "outputId": "8c833d5e-ec94-47ac-fd0a-7029b05e8eb1"
      },
      "source": [
        "have_df.head(1)"
      ],
      "execution_count": null,
      "outputs": [
        {
          "output_type": "execute_result",
          "data": {
            "text/html": [
              "<div>\n",
              "<style scoped>\n",
              "    .dataframe tbody tr th:only-of-type {\n",
              "        vertical-align: middle;\n",
              "    }\n",
              "\n",
              "    .dataframe tbody tr th {\n",
              "        vertical-align: top;\n",
              "    }\n",
              "\n",
              "    .dataframe thead th {\n",
              "        text-align: right;\n",
              "    }\n",
              "</style>\n",
              "<table border=\"1\" class=\"dataframe\">\n",
              "  <thead>\n",
              "    <tr style=\"text-align: right;\">\n",
              "      <th></th>\n",
              "      <th>user_id</th>\n",
              "      <th>item_id</th>\n",
              "      <th>unix_timestamp</th>\n",
              "    </tr>\n",
              "  </thead>\n",
              "  <tbody>\n",
              "    <tr>\n",
              "      <th>0</th>\n",
              "      <td>41</td>\n",
              "      <td>415868</td>\n",
              "      <td>1421536572</td>\n",
              "    </tr>\n",
              "  </tbody>\n",
              "</table>\n",
              "</div>"
            ],
            "text/plain": [
              "   user_id  item_id  unix_timestamp\n",
              "0       41   415868      1421536572"
            ]
          },
          "metadata": {
            "tags": []
          },
          "execution_count": 5
        }
      ]
    },
    {
      "cell_type": "code",
      "metadata": {
        "colab": {
          "base_uri": "https://localhost:8080/",
          "height": 80
        },
        "id": "B12R4BoqXddm",
        "outputId": "792a4d12-6047-44a9-e617-fd8e31aa6dee"
      },
      "source": [
        "wish_df.head(1)"
      ],
      "execution_count": null,
      "outputs": [
        {
          "output_type": "execute_result",
          "data": {
            "text/html": [
              "<div>\n",
              "<style scoped>\n",
              "    .dataframe tbody tr th:only-of-type {\n",
              "        vertical-align: middle;\n",
              "    }\n",
              "\n",
              "    .dataframe tbody tr th {\n",
              "        vertical-align: top;\n",
              "    }\n",
              "\n",
              "    .dataframe thead th {\n",
              "        text-align: right;\n",
              "    }\n",
              "</style>\n",
              "<table border=\"1\" class=\"dataframe\">\n",
              "  <thead>\n",
              "    <tr style=\"text-align: right;\">\n",
              "      <th></th>\n",
              "      <th>user_id</th>\n",
              "      <th>item_id</th>\n",
              "      <th>unix_timestamp</th>\n",
              "    </tr>\n",
              "  </thead>\n",
              "  <tbody>\n",
              "    <tr>\n",
              "      <th>0</th>\n",
              "      <td>41</td>\n",
              "      <td>12889</td>\n",
              "      <td>1425062294</td>\n",
              "    </tr>\n",
              "  </tbody>\n",
              "</table>\n",
              "</div>"
            ],
            "text/plain": [
              "   user_id  item_id  unix_timestamp\n",
              "0       41    12889      1425062294"
            ]
          },
          "metadata": {
            "tags": []
          },
          "execution_count": 6
        }
      ]
    },
    {
      "cell_type": "code",
      "metadata": {
        "colab": {
          "base_uri": "https://localhost:8080/",
          "height": 80
        },
        "id": "VMPCWlWwXkEX",
        "outputId": "c9a4dc0f-76e0-4664-b74e-966b820c4e1f"
      },
      "source": [
        "pairs_df.head(1)"
      ],
      "execution_count": null,
      "outputs": [
        {
          "output_type": "execute_result",
          "data": {
            "text/html": [
              "<div>\n",
              "<style scoped>\n",
              "    .dataframe tbody tr th:only-of-type {\n",
              "        vertical-align: middle;\n",
              "    }\n",
              "\n",
              "    .dataframe tbody tr th {\n",
              "        vertical-align: top;\n",
              "    }\n",
              "\n",
              "    .dataframe thead th {\n",
              "        text-align: right;\n",
              "    }\n",
              "</style>\n",
              "<table border=\"1\" class=\"dataframe\">\n",
              "  <thead>\n",
              "    <tr style=\"text-align: right;\">\n",
              "      <th></th>\n",
              "      <th>user1_id</th>\n",
              "      <th>item1_id</th>\n",
              "      <th>user2_id</th>\n",
              "      <th>item2_id</th>\n",
              "    </tr>\n",
              "  </thead>\n",
              "  <tbody>\n",
              "    <tr>\n",
              "      <th>0</th>\n",
              "      <td>80555</td>\n",
              "      <td>84914</td>\n",
              "      <td>5616</td>\n",
              "      <td>495048</td>\n",
              "    </tr>\n",
              "  </tbody>\n",
              "</table>\n",
              "</div>"
            ],
            "text/plain": [
              "   user1_id  item1_id  user2_id  item2_id\n",
              "0     80555     84914      5616    495048"
            ]
          },
          "metadata": {
            "tags": []
          },
          "execution_count": 7
        }
      ]
    },
    {
      "cell_type": "code",
      "metadata": {
        "colab": {
          "base_uri": "https://localhost:8080/",
          "height": 80
        },
        "id": "PERB0I8JXnVM",
        "outputId": "3e3e14b8-aed3-4848-aba8-4ad752fd92fe"
      },
      "source": [
        "transac_df.head(1)"
      ],
      "execution_count": null,
      "outputs": [
        {
          "output_type": "execute_result",
          "data": {
            "text/html": [
              "<div>\n",
              "<style scoped>\n",
              "    .dataframe tbody tr th:only-of-type {\n",
              "        vertical-align: middle;\n",
              "    }\n",
              "\n",
              "    .dataframe tbody tr th {\n",
              "        vertical-align: top;\n",
              "    }\n",
              "\n",
              "    .dataframe thead th {\n",
              "        text-align: right;\n",
              "    }\n",
              "</style>\n",
              "<table border=\"1\" class=\"dataframe\">\n",
              "  <thead>\n",
              "    <tr style=\"text-align: right;\">\n",
              "      <th></th>\n",
              "      <th>giver_user_id</th>\n",
              "      <th>receiver_user_id</th>\n",
              "      <th>item_id</th>\n",
              "      <th>unix_timestamp</th>\n",
              "    </tr>\n",
              "  </thead>\n",
              "  <tbody>\n",
              "    <tr>\n",
              "      <th>0</th>\n",
              "      <td>38</td>\n",
              "      <td>15502</td>\n",
              "      <td>354627</td>\n",
              "      <td>1416308635</td>\n",
              "    </tr>\n",
              "  </tbody>\n",
              "</table>\n",
              "</div>"
            ],
            "text/plain": [
              "   giver_user_id  receiver_user_id  item_id  unix_timestamp\n",
              "0             38             15502   354627      1416308635"
            ]
          },
          "metadata": {
            "tags": []
          },
          "execution_count": 8
        }
      ]
    },
    {
      "cell_type": "markdown",
      "metadata": {
        "id": "UWG-6jSLA0Tm"
      },
      "source": [
        "### Prepare User-Item Matrix"
      ]
    },
    {
      "cell_type": "code",
      "metadata": {
        "id": "KCoWAleUIL_J"
      },
      "source": [
        "def user_item_df(have_df, wish_df, pairs_df, transac_df):\n",
        "  # Grab all the items the user has wished for\n",
        "  wished_for = wish_df[['user_id',\t'item_id']]\n",
        "\n",
        "  # Get items from the transactions.\n",
        "  transacted = transac_df[['receiver_user_id', 'item_id']].rename({'receiver_user_id': 'user_id'}, axis='columns')\n",
        "\n",
        "  # Combine the wished for and transaction dataframe\n",
        "  user_item = pd.concat([wished_for, transacted])\n",
        "\n",
        "  # Add a like column indicating they have liked it.\n",
        "  user_item['like'] = 1\n",
        "\n",
        "  # These are the duplicate entries (that is, when someone got something they wished for)\n",
        "  print(f'Number of user_items before removing duplicates: {user_item.shape[0]}')\n",
        "  print(f'Number of duplicated rows: {user_item[user_item.duplicated()].shape[0]}')\n",
        "  user_item = user_item.drop_duplicates()\n",
        "  print(f'Number of duplicated rows after removing: {user_item[user_item.duplicated()].shape[0]}')\n",
        "  print(f'Number of user_items after removing duplicates: {user_item.shape[0]}')\n",
        "\n",
        "  return user_item"
      ],
      "execution_count": null,
      "outputs": []
    },
    {
      "cell_type": "code",
      "metadata": {
        "colab": {
          "base_uri": "https://localhost:8080/"
        },
        "id": "M1sv8JceMGkC",
        "outputId": "4a0e1f77-a4f3-4b77-f9d1-3dc672790e76"
      },
      "source": [
        "user_item = user_item_df(have_df, wish_df, pairs_df, transac_df)"
      ],
      "execution_count": null,
      "outputs": [
        {
          "output_type": "stream",
          "text": [
            "Number of user_items before removing duplicates: 546785\n",
            "Number of duplicated rows: 8613\n",
            "Number of duplicated rows after removing: 0\n",
            "Number of user_items after removing duplicates: 538172\n"
          ],
          "name": "stdout"
        }
      ]
    },
    {
      "cell_type": "code",
      "metadata": {
        "colab": {
          "base_uri": "https://localhost:8080/"
        },
        "id": "q3BRpb1wOGhD",
        "outputId": "86fdef98-3c6a-465d-b95e-5ca91b5d71b4"
      },
      "source": [
        "user_item.user_id.describe()"
      ],
      "execution_count": null,
      "outputs": [
        {
          "output_type": "execute_result",
          "data": {
            "text/plain": [
              "count    538172.000000\n",
              "mean      43788.941558\n",
              "std       26092.649412\n",
              "min          41.000000\n",
              "25%       21341.000000\n",
              "50%       44447.000000\n",
              "75%       66695.000000\n",
              "max      124671.000000\n",
              "Name: user_id, dtype: float64"
            ]
          },
          "metadata": {
            "tags": []
          },
          "execution_count": 11
        }
      ]
    },
    {
      "cell_type": "markdown",
      "metadata": {
        "id": "uGF5XdPLA0T8"
      },
      "source": [
        "### Change Ids To Sequence"
      ]
    },
    {
      "cell_type": "code",
      "metadata": {
        "id": "PxiCaUIJQwdp"
      },
      "source": [
        "def change_ids_to_seq(user_item):\n",
        "  # Create user and item mapping to convert to seq\n",
        "  user_ids = user_item['user_id'].unique()\n",
        "  user_ids.sort()\n",
        "\n",
        "  item_ids = user_item['item_id'].unique()\n",
        "  item_ids.sort()\n",
        "\n",
        "  user_id_map = {real: mapped for mapped, real in enumerate(user_ids)}\n",
        "  item_id_map = {real: mapped for mapped, real in enumerate(item_ids)}\n",
        "\n",
        "  def find_user_id_mapping(user_id, user_id_map):\n",
        "    return user_id_map[user_id]\n",
        "  \n",
        "  def find_item_id_mapping(item_id, item_id_map):\n",
        "    return item_id_map[item_id]\n",
        "\n",
        "  user_item[\"user_id\"] = user_item.apply(lambda s: find_user_id_mapping(s[\"user_id\"], user_id_map), axis=1)\n",
        "  user_item[\"item_id\"] = user_item.apply(lambda s: find_item_id_mapping(s[\"item_id\"], item_id_map), axis=1)\n",
        "  return user_item, user_id_map, item_id_map"
      ],
      "execution_count": null,
      "outputs": []
    },
    {
      "cell_type": "code",
      "metadata": {
        "id": "Y3LCLCE7RB-m"
      },
      "source": [
        "user_item=user_item.head(300000)\n",
        "# user_item=user_item.head(230000)\n",
        "user_item, user_id_map, item_id_map = change_ids_to_seq(user_item)"
      ],
      "execution_count": null,
      "outputs": []
    },
    {
      "cell_type": "markdown",
      "metadata": {
        "id": "BBaohWCOA0T-"
      },
      "source": [
        "### Train-Test Split"
      ]
    },
    {
      "cell_type": "code",
      "metadata": {
        "id": "-SghRNl7vXt-"
      },
      "source": [
        "def split_into_test_train(user_item):\n",
        "  train_df, test_df = train_test_split(user_item, test_size=0.2)\n",
        "\n",
        "  test_df_zreos = test_df.copy()\n",
        "  test_df_zreos[\"like\"] = 0\n",
        "  train_df = train_df.append(test_df_zreos)\n",
        "  # train_df[train_df[\"like\"] == 0]\n",
        "\n",
        "  return train_df, test_df"
      ],
      "execution_count": null,
      "outputs": []
    },
    {
      "cell_type": "code",
      "metadata": {
        "id": "XUo98ufDvreb"
      },
      "source": [
        "train_df, test_df = split_into_test_train(user_item)"
      ],
      "execution_count": null,
      "outputs": []
    },
    {
      "cell_type": "code",
      "metadata": {
        "colab": {
          "base_uri": "https://localhost:8080/",
          "height": 416
        },
        "id": "2FmJrfbmvuS0",
        "outputId": "13da5001-f74b-4b4e-b729-ff97f6db6d83"
      },
      "source": [
        "train_df"
      ],
      "execution_count": null,
      "outputs": [
        {
          "output_type": "execute_result",
          "data": {
            "text/html": [
              "<div>\n",
              "<style scoped>\n",
              "    .dataframe tbody tr th:only-of-type {\n",
              "        vertical-align: middle;\n",
              "    }\n",
              "\n",
              "    .dataframe tbody tr th {\n",
              "        vertical-align: top;\n",
              "    }\n",
              "\n",
              "    .dataframe thead th {\n",
              "        text-align: right;\n",
              "    }\n",
              "</style>\n",
              "<table border=\"1\" class=\"dataframe\">\n",
              "  <thead>\n",
              "    <tr style=\"text-align: right;\">\n",
              "      <th></th>\n",
              "      <th>user_id</th>\n",
              "      <th>item_id</th>\n",
              "      <th>like</th>\n",
              "    </tr>\n",
              "  </thead>\n",
              "  <tbody>\n",
              "    <tr>\n",
              "      <th>293457</th>\n",
              "      <td>8487</td>\n",
              "      <td>23180</td>\n",
              "      <td>1</td>\n",
              "    </tr>\n",
              "    <tr>\n",
              "      <th>46066</th>\n",
              "      <td>1077</td>\n",
              "      <td>37066</td>\n",
              "      <td>1</td>\n",
              "    </tr>\n",
              "    <tr>\n",
              "      <th>58288</th>\n",
              "      <td>1501</td>\n",
              "      <td>86630</td>\n",
              "      <td>1</td>\n",
              "    </tr>\n",
              "    <tr>\n",
              "      <th>230444</th>\n",
              "      <td>6788</td>\n",
              "      <td>6196</td>\n",
              "      <td>1</td>\n",
              "    </tr>\n",
              "    <tr>\n",
              "      <th>244868</th>\n",
              "      <td>7180</td>\n",
              "      <td>123798</td>\n",
              "      <td>1</td>\n",
              "    </tr>\n",
              "    <tr>\n",
              "      <th>...</th>\n",
              "      <td>...</td>\n",
              "      <td>...</td>\n",
              "      <td>...</td>\n",
              "    </tr>\n",
              "    <tr>\n",
              "      <th>259634</th>\n",
              "      <td>7604</td>\n",
              "      <td>193848</td>\n",
              "      <td>0</td>\n",
              "    </tr>\n",
              "    <tr>\n",
              "      <th>239698</th>\n",
              "      <td>6974</td>\n",
              "      <td>147846</td>\n",
              "      <td>0</td>\n",
              "    </tr>\n",
              "    <tr>\n",
              "      <th>255103</th>\n",
              "      <td>7469</td>\n",
              "      <td>191476</td>\n",
              "      <td>0</td>\n",
              "    </tr>\n",
              "    <tr>\n",
              "      <th>41436</th>\n",
              "      <td>924</td>\n",
              "      <td>54977</td>\n",
              "      <td>0</td>\n",
              "    </tr>\n",
              "    <tr>\n",
              "      <th>134810</th>\n",
              "      <td>3642</td>\n",
              "      <td>82343</td>\n",
              "      <td>0</td>\n",
              "    </tr>\n",
              "  </tbody>\n",
              "</table>\n",
              "<p>300000 rows × 3 columns</p>\n",
              "</div>"
            ],
            "text/plain": [
              "        user_id  item_id  like\n",
              "293457     8487    23180     1\n",
              "46066      1077    37066     1\n",
              "58288      1501    86630     1\n",
              "230444     6788     6196     1\n",
              "244868     7180   123798     1\n",
              "...         ...      ...   ...\n",
              "259634     7604   193848     0\n",
              "239698     6974   147846     0\n",
              "255103     7469   191476     0\n",
              "41436       924    54977     0\n",
              "134810     3642    82343     0\n",
              "\n",
              "[300000 rows x 3 columns]"
            ]
          },
          "metadata": {
            "tags": []
          },
          "execution_count": 16
        }
      ]
    },
    {
      "cell_type": "code",
      "metadata": {
        "colab": {
          "base_uri": "https://localhost:8080/",
          "height": 416
        },
        "id": "yMC5xobhvxFy",
        "outputId": "2114d4db-4001-4d55-baea-a7655fae412e"
      },
      "source": [
        "test_df"
      ],
      "execution_count": null,
      "outputs": [
        {
          "output_type": "execute_result",
          "data": {
            "text/html": [
              "<div>\n",
              "<style scoped>\n",
              "    .dataframe tbody tr th:only-of-type {\n",
              "        vertical-align: middle;\n",
              "    }\n",
              "\n",
              "    .dataframe tbody tr th {\n",
              "        vertical-align: top;\n",
              "    }\n",
              "\n",
              "    .dataframe thead th {\n",
              "        text-align: right;\n",
              "    }\n",
              "</style>\n",
              "<table border=\"1\" class=\"dataframe\">\n",
              "  <thead>\n",
              "    <tr style=\"text-align: right;\">\n",
              "      <th></th>\n",
              "      <th>user_id</th>\n",
              "      <th>item_id</th>\n",
              "      <th>like</th>\n",
              "    </tr>\n",
              "  </thead>\n",
              "  <tbody>\n",
              "    <tr>\n",
              "      <th>222945</th>\n",
              "      <td>6515</td>\n",
              "      <td>123038</td>\n",
              "      <td>1</td>\n",
              "    </tr>\n",
              "    <tr>\n",
              "      <th>299877</th>\n",
              "      <td>8617</td>\n",
              "      <td>207233</td>\n",
              "      <td>1</td>\n",
              "    </tr>\n",
              "    <tr>\n",
              "      <th>298520</th>\n",
              "      <td>8576</td>\n",
              "      <td>110031</td>\n",
              "      <td>1</td>\n",
              "    </tr>\n",
              "    <tr>\n",
              "      <th>93304</th>\n",
              "      <td>2604</td>\n",
              "      <td>114003</td>\n",
              "      <td>1</td>\n",
              "    </tr>\n",
              "    <tr>\n",
              "      <th>55995</th>\n",
              "      <td>1399</td>\n",
              "      <td>84031</td>\n",
              "      <td>1</td>\n",
              "    </tr>\n",
              "    <tr>\n",
              "      <th>...</th>\n",
              "      <td>...</td>\n",
              "      <td>...</td>\n",
              "      <td>...</td>\n",
              "    </tr>\n",
              "    <tr>\n",
              "      <th>259634</th>\n",
              "      <td>7604</td>\n",
              "      <td>193848</td>\n",
              "      <td>1</td>\n",
              "    </tr>\n",
              "    <tr>\n",
              "      <th>239698</th>\n",
              "      <td>6974</td>\n",
              "      <td>147846</td>\n",
              "      <td>1</td>\n",
              "    </tr>\n",
              "    <tr>\n",
              "      <th>255103</th>\n",
              "      <td>7469</td>\n",
              "      <td>191476</td>\n",
              "      <td>1</td>\n",
              "    </tr>\n",
              "    <tr>\n",
              "      <th>41436</th>\n",
              "      <td>924</td>\n",
              "      <td>54977</td>\n",
              "      <td>1</td>\n",
              "    </tr>\n",
              "    <tr>\n",
              "      <th>134810</th>\n",
              "      <td>3642</td>\n",
              "      <td>82343</td>\n",
              "      <td>1</td>\n",
              "    </tr>\n",
              "  </tbody>\n",
              "</table>\n",
              "<p>60000 rows × 3 columns</p>\n",
              "</div>"
            ],
            "text/plain": [
              "        user_id  item_id  like\n",
              "222945     6515   123038     1\n",
              "299877     8617   207233     1\n",
              "298520     8576   110031     1\n",
              "93304      2604   114003     1\n",
              "55995      1399    84031     1\n",
              "...         ...      ...   ...\n",
              "259634     7604   193848     1\n",
              "239698     6974   147846     1\n",
              "255103     7469   191476     1\n",
              "41436       924    54977     1\n",
              "134810     3642    82343     1\n",
              "\n",
              "[60000 rows x 3 columns]"
            ]
          },
          "metadata": {
            "tags": []
          },
          "execution_count": 17
        }
      ]
    },
    {
      "cell_type": "markdown",
      "metadata": {
        "id": "gjF7-thsA7kF"
      },
      "source": [
        "# Modeling Basic User Preferences\n",
        "\n",
        "\n",
        "\n"
      ]
    },
    {
      "cell_type": "code",
      "metadata": {
        "id": "csaXM2TixLBg"
      },
      "source": [
        "def get_train_matrix(train_df):\n",
        "  # Get the training matrix with 0s entered for all user-item combos.\n",
        "  train_matrix_df = train_df.pivot(index='user_id', columns ='item_id', values = 'like').fillna(0)\n",
        "  return train_matrix_df"
      ],
      "execution_count": null,
      "outputs": []
    },
    {
      "cell_type": "code",
      "metadata": {
        "id": "44tlvgWkv3Lu"
      },
      "source": [
        "matrix_df = get_train_matrix(train_df)"
      ],
      "execution_count": null,
      "outputs": []
    },
    {
      "cell_type": "code",
      "metadata": {
        "colab": {
          "base_uri": "https://localhost:8080/",
          "height": 466
        },
        "id": "1J-MTZO3xgIN",
        "outputId": "c7471498-af8b-4f23-b443-5fbd06027d06"
      },
      "source": [
        "matrix_df"
      ],
      "execution_count": null,
      "outputs": [
        {
          "output_type": "execute_result",
          "data": {
            "text/html": [
              "<div>\n",
              "<style scoped>\n",
              "    .dataframe tbody tr th:only-of-type {\n",
              "        vertical-align: middle;\n",
              "    }\n",
              "\n",
              "    .dataframe tbody tr th {\n",
              "        vertical-align: top;\n",
              "    }\n",
              "\n",
              "    .dataframe thead th {\n",
              "        text-align: right;\n",
              "    }\n",
              "</style>\n",
              "<table border=\"1\" class=\"dataframe\">\n",
              "  <thead>\n",
              "    <tr style=\"text-align: right;\">\n",
              "      <th>item_id</th>\n",
              "      <th>0</th>\n",
              "      <th>1</th>\n",
              "      <th>2</th>\n",
              "      <th>3</th>\n",
              "      <th>4</th>\n",
              "      <th>5</th>\n",
              "      <th>6</th>\n",
              "      <th>7</th>\n",
              "      <th>8</th>\n",
              "      <th>9</th>\n",
              "      <th>...</th>\n",
              "      <th>207320</th>\n",
              "      <th>207321</th>\n",
              "      <th>207322</th>\n",
              "      <th>207323</th>\n",
              "      <th>207324</th>\n",
              "      <th>207325</th>\n",
              "      <th>207326</th>\n",
              "      <th>207327</th>\n",
              "      <th>207328</th>\n",
              "      <th>207329</th>\n",
              "    </tr>\n",
              "    <tr>\n",
              "      <th>user_id</th>\n",
              "      <th></th>\n",
              "      <th></th>\n",
              "      <th></th>\n",
              "      <th></th>\n",
              "      <th></th>\n",
              "      <th></th>\n",
              "      <th></th>\n",
              "      <th></th>\n",
              "      <th></th>\n",
              "      <th></th>\n",
              "      <th></th>\n",
              "      <th></th>\n",
              "      <th></th>\n",
              "      <th></th>\n",
              "      <th></th>\n",
              "      <th></th>\n",
              "      <th></th>\n",
              "      <th></th>\n",
              "      <th></th>\n",
              "      <th></th>\n",
              "      <th></th>\n",
              "    </tr>\n",
              "  </thead>\n",
              "  <tbody>\n",
              "    <tr>\n",
              "      <th>0</th>\n",
              "      <td>0.0</td>\n",
              "      <td>0.0</td>\n",
              "      <td>0.0</td>\n",
              "      <td>0.0</td>\n",
              "      <td>0.0</td>\n",
              "      <td>0.0</td>\n",
              "      <td>0.0</td>\n",
              "      <td>0.0</td>\n",
              "      <td>0.0</td>\n",
              "      <td>0.0</td>\n",
              "      <td>...</td>\n",
              "      <td>0.0</td>\n",
              "      <td>0.0</td>\n",
              "      <td>0.0</td>\n",
              "      <td>0.0</td>\n",
              "      <td>0.0</td>\n",
              "      <td>0.0</td>\n",
              "      <td>0.0</td>\n",
              "      <td>0.0</td>\n",
              "      <td>0.0</td>\n",
              "      <td>0.0</td>\n",
              "    </tr>\n",
              "    <tr>\n",
              "      <th>1</th>\n",
              "      <td>0.0</td>\n",
              "      <td>0.0</td>\n",
              "      <td>0.0</td>\n",
              "      <td>0.0</td>\n",
              "      <td>0.0</td>\n",
              "      <td>0.0</td>\n",
              "      <td>0.0</td>\n",
              "      <td>0.0</td>\n",
              "      <td>0.0</td>\n",
              "      <td>0.0</td>\n",
              "      <td>...</td>\n",
              "      <td>0.0</td>\n",
              "      <td>0.0</td>\n",
              "      <td>0.0</td>\n",
              "      <td>0.0</td>\n",
              "      <td>0.0</td>\n",
              "      <td>0.0</td>\n",
              "      <td>0.0</td>\n",
              "      <td>0.0</td>\n",
              "      <td>0.0</td>\n",
              "      <td>0.0</td>\n",
              "    </tr>\n",
              "    <tr>\n",
              "      <th>2</th>\n",
              "      <td>0.0</td>\n",
              "      <td>0.0</td>\n",
              "      <td>0.0</td>\n",
              "      <td>0.0</td>\n",
              "      <td>0.0</td>\n",
              "      <td>0.0</td>\n",
              "      <td>0.0</td>\n",
              "      <td>0.0</td>\n",
              "      <td>0.0</td>\n",
              "      <td>0.0</td>\n",
              "      <td>...</td>\n",
              "      <td>0.0</td>\n",
              "      <td>0.0</td>\n",
              "      <td>0.0</td>\n",
              "      <td>0.0</td>\n",
              "      <td>0.0</td>\n",
              "      <td>0.0</td>\n",
              "      <td>0.0</td>\n",
              "      <td>0.0</td>\n",
              "      <td>0.0</td>\n",
              "      <td>0.0</td>\n",
              "    </tr>\n",
              "    <tr>\n",
              "      <th>3</th>\n",
              "      <td>0.0</td>\n",
              "      <td>0.0</td>\n",
              "      <td>0.0</td>\n",
              "      <td>0.0</td>\n",
              "      <td>0.0</td>\n",
              "      <td>0.0</td>\n",
              "      <td>0.0</td>\n",
              "      <td>0.0</td>\n",
              "      <td>0.0</td>\n",
              "      <td>0.0</td>\n",
              "      <td>...</td>\n",
              "      <td>0.0</td>\n",
              "      <td>0.0</td>\n",
              "      <td>0.0</td>\n",
              "      <td>0.0</td>\n",
              "      <td>0.0</td>\n",
              "      <td>0.0</td>\n",
              "      <td>0.0</td>\n",
              "      <td>0.0</td>\n",
              "      <td>0.0</td>\n",
              "      <td>0.0</td>\n",
              "    </tr>\n",
              "    <tr>\n",
              "      <th>4</th>\n",
              "      <td>0.0</td>\n",
              "      <td>0.0</td>\n",
              "      <td>0.0</td>\n",
              "      <td>0.0</td>\n",
              "      <td>0.0</td>\n",
              "      <td>0.0</td>\n",
              "      <td>0.0</td>\n",
              "      <td>0.0</td>\n",
              "      <td>0.0</td>\n",
              "      <td>0.0</td>\n",
              "      <td>...</td>\n",
              "      <td>0.0</td>\n",
              "      <td>0.0</td>\n",
              "      <td>0.0</td>\n",
              "      <td>0.0</td>\n",
              "      <td>0.0</td>\n",
              "      <td>0.0</td>\n",
              "      <td>0.0</td>\n",
              "      <td>0.0</td>\n",
              "      <td>0.0</td>\n",
              "      <td>0.0</td>\n",
              "    </tr>\n",
              "    <tr>\n",
              "      <th>...</th>\n",
              "      <td>...</td>\n",
              "      <td>...</td>\n",
              "      <td>...</td>\n",
              "      <td>...</td>\n",
              "      <td>...</td>\n",
              "      <td>...</td>\n",
              "      <td>...</td>\n",
              "      <td>...</td>\n",
              "      <td>...</td>\n",
              "      <td>...</td>\n",
              "      <td>...</td>\n",
              "      <td>...</td>\n",
              "      <td>...</td>\n",
              "      <td>...</td>\n",
              "      <td>...</td>\n",
              "      <td>...</td>\n",
              "      <td>...</td>\n",
              "      <td>...</td>\n",
              "      <td>...</td>\n",
              "      <td>...</td>\n",
              "      <td>...</td>\n",
              "    </tr>\n",
              "    <tr>\n",
              "      <th>8613</th>\n",
              "      <td>0.0</td>\n",
              "      <td>0.0</td>\n",
              "      <td>0.0</td>\n",
              "      <td>0.0</td>\n",
              "      <td>0.0</td>\n",
              "      <td>0.0</td>\n",
              "      <td>0.0</td>\n",
              "      <td>0.0</td>\n",
              "      <td>0.0</td>\n",
              "      <td>0.0</td>\n",
              "      <td>...</td>\n",
              "      <td>0.0</td>\n",
              "      <td>0.0</td>\n",
              "      <td>0.0</td>\n",
              "      <td>0.0</td>\n",
              "      <td>0.0</td>\n",
              "      <td>0.0</td>\n",
              "      <td>0.0</td>\n",
              "      <td>0.0</td>\n",
              "      <td>0.0</td>\n",
              "      <td>0.0</td>\n",
              "    </tr>\n",
              "    <tr>\n",
              "      <th>8614</th>\n",
              "      <td>0.0</td>\n",
              "      <td>0.0</td>\n",
              "      <td>0.0</td>\n",
              "      <td>0.0</td>\n",
              "      <td>0.0</td>\n",
              "      <td>0.0</td>\n",
              "      <td>0.0</td>\n",
              "      <td>0.0</td>\n",
              "      <td>0.0</td>\n",
              "      <td>0.0</td>\n",
              "      <td>...</td>\n",
              "      <td>0.0</td>\n",
              "      <td>0.0</td>\n",
              "      <td>0.0</td>\n",
              "      <td>0.0</td>\n",
              "      <td>0.0</td>\n",
              "      <td>0.0</td>\n",
              "      <td>0.0</td>\n",
              "      <td>0.0</td>\n",
              "      <td>0.0</td>\n",
              "      <td>0.0</td>\n",
              "    </tr>\n",
              "    <tr>\n",
              "      <th>8615</th>\n",
              "      <td>0.0</td>\n",
              "      <td>0.0</td>\n",
              "      <td>0.0</td>\n",
              "      <td>0.0</td>\n",
              "      <td>0.0</td>\n",
              "      <td>0.0</td>\n",
              "      <td>0.0</td>\n",
              "      <td>0.0</td>\n",
              "      <td>0.0</td>\n",
              "      <td>0.0</td>\n",
              "      <td>...</td>\n",
              "      <td>0.0</td>\n",
              "      <td>0.0</td>\n",
              "      <td>0.0</td>\n",
              "      <td>0.0</td>\n",
              "      <td>0.0</td>\n",
              "      <td>0.0</td>\n",
              "      <td>0.0</td>\n",
              "      <td>0.0</td>\n",
              "      <td>0.0</td>\n",
              "      <td>0.0</td>\n",
              "    </tr>\n",
              "    <tr>\n",
              "      <th>8616</th>\n",
              "      <td>0.0</td>\n",
              "      <td>0.0</td>\n",
              "      <td>0.0</td>\n",
              "      <td>0.0</td>\n",
              "      <td>0.0</td>\n",
              "      <td>0.0</td>\n",
              "      <td>0.0</td>\n",
              "      <td>0.0</td>\n",
              "      <td>0.0</td>\n",
              "      <td>0.0</td>\n",
              "      <td>...</td>\n",
              "      <td>0.0</td>\n",
              "      <td>0.0</td>\n",
              "      <td>0.0</td>\n",
              "      <td>0.0</td>\n",
              "      <td>0.0</td>\n",
              "      <td>0.0</td>\n",
              "      <td>0.0</td>\n",
              "      <td>0.0</td>\n",
              "      <td>0.0</td>\n",
              "      <td>0.0</td>\n",
              "    </tr>\n",
              "    <tr>\n",
              "      <th>8617</th>\n",
              "      <td>0.0</td>\n",
              "      <td>0.0</td>\n",
              "      <td>0.0</td>\n",
              "      <td>0.0</td>\n",
              "      <td>0.0</td>\n",
              "      <td>0.0</td>\n",
              "      <td>0.0</td>\n",
              "      <td>0.0</td>\n",
              "      <td>0.0</td>\n",
              "      <td>0.0</td>\n",
              "      <td>...</td>\n",
              "      <td>1.0</td>\n",
              "      <td>1.0</td>\n",
              "      <td>0.0</td>\n",
              "      <td>1.0</td>\n",
              "      <td>1.0</td>\n",
              "      <td>1.0</td>\n",
              "      <td>1.0</td>\n",
              "      <td>1.0</td>\n",
              "      <td>1.0</td>\n",
              "      <td>1.0</td>\n",
              "    </tr>\n",
              "  </tbody>\n",
              "</table>\n",
              "<p>8618 rows × 207330 columns</p>\n",
              "</div>"
            ],
            "text/plain": [
              "item_id  0       1       2       3       4       5       6       7       \\\n",
              "user_id                                                                   \n",
              "0           0.0     0.0     0.0     0.0     0.0     0.0     0.0     0.0   \n",
              "1           0.0     0.0     0.0     0.0     0.0     0.0     0.0     0.0   \n",
              "2           0.0     0.0     0.0     0.0     0.0     0.0     0.0     0.0   \n",
              "3           0.0     0.0     0.0     0.0     0.0     0.0     0.0     0.0   \n",
              "4           0.0     0.0     0.0     0.0     0.0     0.0     0.0     0.0   \n",
              "...         ...     ...     ...     ...     ...     ...     ...     ...   \n",
              "8613        0.0     0.0     0.0     0.0     0.0     0.0     0.0     0.0   \n",
              "8614        0.0     0.0     0.0     0.0     0.0     0.0     0.0     0.0   \n",
              "8615        0.0     0.0     0.0     0.0     0.0     0.0     0.0     0.0   \n",
              "8616        0.0     0.0     0.0     0.0     0.0     0.0     0.0     0.0   \n",
              "8617        0.0     0.0     0.0     0.0     0.0     0.0     0.0     0.0   \n",
              "\n",
              "item_id  8       9       ...  207320  207321  207322  207323  207324  207325  \\\n",
              "user_id                  ...                                                   \n",
              "0           0.0     0.0  ...     0.0     0.0     0.0     0.0     0.0     0.0   \n",
              "1           0.0     0.0  ...     0.0     0.0     0.0     0.0     0.0     0.0   \n",
              "2           0.0     0.0  ...     0.0     0.0     0.0     0.0     0.0     0.0   \n",
              "3           0.0     0.0  ...     0.0     0.0     0.0     0.0     0.0     0.0   \n",
              "4           0.0     0.0  ...     0.0     0.0     0.0     0.0     0.0     0.0   \n",
              "...         ...     ...  ...     ...     ...     ...     ...     ...     ...   \n",
              "8613        0.0     0.0  ...     0.0     0.0     0.0     0.0     0.0     0.0   \n",
              "8614        0.0     0.0  ...     0.0     0.0     0.0     0.0     0.0     0.0   \n",
              "8615        0.0     0.0  ...     0.0     0.0     0.0     0.0     0.0     0.0   \n",
              "8616        0.0     0.0  ...     0.0     0.0     0.0     0.0     0.0     0.0   \n",
              "8617        0.0     0.0  ...     1.0     1.0     0.0     1.0     1.0     1.0   \n",
              "\n",
              "item_id  207326  207327  207328  207329  \n",
              "user_id                                  \n",
              "0           0.0     0.0     0.0     0.0  \n",
              "1           0.0     0.0     0.0     0.0  \n",
              "2           0.0     0.0     0.0     0.0  \n",
              "3           0.0     0.0     0.0     0.0  \n",
              "4           0.0     0.0     0.0     0.0  \n",
              "...         ...     ...     ...     ...  \n",
              "8613        0.0     0.0     0.0     0.0  \n",
              "8614        0.0     0.0     0.0     0.0  \n",
              "8615        0.0     0.0     0.0     0.0  \n",
              "8616        0.0     0.0     0.0     0.0  \n",
              "8617        1.0     1.0     1.0     1.0  \n",
              "\n",
              "[8618 rows x 207330 columns]"
            ]
          },
          "metadata": {
            "tags": []
          },
          "execution_count": 20
        }
      ]
    },
    {
      "cell_type": "code",
      "metadata": {
        "id": "TpZY9Wrc1jZb"
      },
      "source": [
        "matrix = matrix_df.to_numpy()"
      ],
      "execution_count": null,
      "outputs": []
    },
    {
      "cell_type": "code",
      "metadata": {
        "colab": {
          "base_uri": "https://localhost:8080/"
        },
        "id": "tO3kcdSY0jeW",
        "outputId": "1e8ad61c-1304-464b-811c-50ad21096f43"
      },
      "source": [
        "matrix"
      ],
      "execution_count": null,
      "outputs": [
        {
          "output_type": "execute_result",
          "data": {
            "text/plain": [
              "array([[0., 0., 0., ..., 0., 0., 0.],\n",
              "       [0., 0., 0., ..., 0., 0., 0.],\n",
              "       [0., 0., 0., ..., 0., 0., 0.],\n",
              "       ...,\n",
              "       [0., 0., 0., ..., 0., 0., 0.],\n",
              "       [0., 0., 0., ..., 0., 0., 0.],\n",
              "       [0., 0., 0., ..., 1., 1., 1.]])"
            ]
          },
          "metadata": {
            "tags": []
          },
          "execution_count": 22
        }
      ]
    },
    {
      "cell_type": "markdown",
      "metadata": {
        "id": "hxoa-75sX26F"
      },
      "source": [
        "The first goal of our model is to estimate a user’s preference for an individual item. As our data contains wish lists\n",
        "and past transactions, we use them as implicit feedback signals [18] when building the preference model.\n",
        "\n",
        "\n",
        "Following the approach proposed by Hu et al. [10], the\n",
        "user-item interaction matrix R is built based on implicit\n",
        "feedback signals as follows:\n",
        "\n",
        "(i.e., 1 iff the item belongs to uj ’s wish list, or there exists\n",
        "a past transaction in which uj receives ik).\n",
        "\n",
        "where puj and qik\n",
        "are vectors describing the ‘preferences’ of\n",
        "the user uj and the ‘properties’ of the item ik.\n"
      ]
    },
    {
      "cell_type": "code",
      "metadata": {
        "id": "dYRpEHUd0rSY"
      },
      "source": [
        "from scipy.sparse.linalg import svds\n",
        "U, sigma, Vt = svds(matrix, k = 50) \n",
        "sigma = np.diag(sigma)\n"
      ],
      "execution_count": null,
      "outputs": []
    },
    {
      "cell_type": "code",
      "metadata": {
        "id": "K_PstHfB3p8i"
      },
      "source": [
        "predicted_user_items = np.dot(np.dot(U, sigma), Vt)\n",
        "predicted_user_items_df = pd.DataFrame(predicted_user_items, columns = matrix_df.columns)"
      ],
      "execution_count": null,
      "outputs": []
    },
    {
      "cell_type": "code",
      "metadata": {
        "colab": {
          "base_uri": "https://localhost:8080/",
          "height": 640
        },
        "id": "YMN-28Tl3_n5",
        "outputId": "eda68b85-b43e-4f91-e228-4f67d56f937d"
      },
      "source": [
        "predicted_user_items_df = predicted_user_items_df.rename_axis('user_id').rename_axis(\"item_id\", axis=\"columns\")\n",
        "predicted_user_items_df"
      ],
      "execution_count": null,
      "outputs": [
        {
          "output_type": "execute_result",
          "data": {
            "text/html": [
              "<div>\n",
              "<style scoped>\n",
              "    .dataframe tbody tr th:only-of-type {\n",
              "        vertical-align: middle;\n",
              "    }\n",
              "\n",
              "    .dataframe tbody tr th {\n",
              "        vertical-align: top;\n",
              "    }\n",
              "\n",
              "    .dataframe thead th {\n",
              "        text-align: right;\n",
              "    }\n",
              "</style>\n",
              "<table border=\"1\" class=\"dataframe\">\n",
              "  <thead>\n",
              "    <tr style=\"text-align: right;\">\n",
              "      <th>item_id</th>\n",
              "      <th>0</th>\n",
              "      <th>1</th>\n",
              "      <th>2</th>\n",
              "      <th>3</th>\n",
              "      <th>4</th>\n",
              "      <th>5</th>\n",
              "      <th>6</th>\n",
              "      <th>7</th>\n",
              "      <th>8</th>\n",
              "      <th>9</th>\n",
              "      <th>...</th>\n",
              "      <th>207320</th>\n",
              "      <th>207321</th>\n",
              "      <th>207322</th>\n",
              "      <th>207323</th>\n",
              "      <th>207324</th>\n",
              "      <th>207325</th>\n",
              "      <th>207326</th>\n",
              "      <th>207327</th>\n",
              "      <th>207328</th>\n",
              "      <th>207329</th>\n",
              "    </tr>\n",
              "    <tr>\n",
              "      <th>user_id</th>\n",
              "      <th></th>\n",
              "      <th></th>\n",
              "      <th></th>\n",
              "      <th></th>\n",
              "      <th></th>\n",
              "      <th></th>\n",
              "      <th></th>\n",
              "      <th></th>\n",
              "      <th></th>\n",
              "      <th></th>\n",
              "      <th></th>\n",
              "      <th></th>\n",
              "      <th></th>\n",
              "      <th></th>\n",
              "      <th></th>\n",
              "      <th></th>\n",
              "      <th></th>\n",
              "      <th></th>\n",
              "      <th></th>\n",
              "      <th></th>\n",
              "      <th></th>\n",
              "    </tr>\n",
              "  </thead>\n",
              "  <tbody>\n",
              "    <tr>\n",
              "      <th>0</th>\n",
              "      <td>3.372824e-07</td>\n",
              "      <td>8.931657e-06</td>\n",
              "      <td>0.0</td>\n",
              "      <td>-1.322453e-05</td>\n",
              "      <td>6.836703e-07</td>\n",
              "      <td>-4.774879e-05</td>\n",
              "      <td>9.474291e-04</td>\n",
              "      <td>0.0</td>\n",
              "      <td>9.664367e-06</td>\n",
              "      <td>8.933580e-07</td>\n",
              "      <td>...</td>\n",
              "      <td>4.560785e-06</td>\n",
              "      <td>4.560785e-06</td>\n",
              "      <td>0.0</td>\n",
              "      <td>4.560785e-06</td>\n",
              "      <td>4.560785e-06</td>\n",
              "      <td>4.560785e-06</td>\n",
              "      <td>4.560785e-06</td>\n",
              "      <td>4.560785e-06</td>\n",
              "      <td>4.560785e-06</td>\n",
              "      <td>4.560785e-06</td>\n",
              "    </tr>\n",
              "    <tr>\n",
              "      <th>1</th>\n",
              "      <td>-2.095458e-07</td>\n",
              "      <td>1.651866e-06</td>\n",
              "      <td>0.0</td>\n",
              "      <td>1.585755e-07</td>\n",
              "      <td>4.262733e-08</td>\n",
              "      <td>4.773616e-06</td>\n",
              "      <td>3.066345e-05</td>\n",
              "      <td>0.0</td>\n",
              "      <td>4.380769e-06</td>\n",
              "      <td>2.194858e-08</td>\n",
              "      <td>...</td>\n",
              "      <td>1.940328e-08</td>\n",
              "      <td>1.940328e-08</td>\n",
              "      <td>0.0</td>\n",
              "      <td>1.940328e-08</td>\n",
              "      <td>1.940328e-08</td>\n",
              "      <td>1.940328e-08</td>\n",
              "      <td>1.940328e-08</td>\n",
              "      <td>1.940328e-08</td>\n",
              "      <td>1.940328e-08</td>\n",
              "      <td>1.940328e-08</td>\n",
              "    </tr>\n",
              "    <tr>\n",
              "      <th>2</th>\n",
              "      <td>3.231701e-08</td>\n",
              "      <td>3.403137e-06</td>\n",
              "      <td>0.0</td>\n",
              "      <td>-1.052859e-06</td>\n",
              "      <td>2.073240e-07</td>\n",
              "      <td>-4.843679e-06</td>\n",
              "      <td>-6.111273e-06</td>\n",
              "      <td>0.0</td>\n",
              "      <td>5.015399e-06</td>\n",
              "      <td>-2.931927e-08</td>\n",
              "      <td>...</td>\n",
              "      <td>-3.845174e-06</td>\n",
              "      <td>-3.845174e-06</td>\n",
              "      <td>0.0</td>\n",
              "      <td>-3.845174e-06</td>\n",
              "      <td>-3.845174e-06</td>\n",
              "      <td>-3.845174e-06</td>\n",
              "      <td>-3.845174e-06</td>\n",
              "      <td>-3.845174e-06</td>\n",
              "      <td>-3.845174e-06</td>\n",
              "      <td>-3.845174e-06</td>\n",
              "    </tr>\n",
              "    <tr>\n",
              "      <th>3</th>\n",
              "      <td>5.642433e-20</td>\n",
              "      <td>1.039158e-19</td>\n",
              "      <td>0.0</td>\n",
              "      <td>6.121800e-18</td>\n",
              "      <td>-3.424745e-20</td>\n",
              "      <td>2.521348e-18</td>\n",
              "      <td>-2.284601e-17</td>\n",
              "      <td>0.0</td>\n",
              "      <td>5.362164e-19</td>\n",
              "      <td>-5.929335e-20</td>\n",
              "      <td>...</td>\n",
              "      <td>1.656322e-17</td>\n",
              "      <td>1.656322e-17</td>\n",
              "      <td>0.0</td>\n",
              "      <td>1.656322e-17</td>\n",
              "      <td>1.656322e-17</td>\n",
              "      <td>1.656322e-17</td>\n",
              "      <td>1.656322e-17</td>\n",
              "      <td>1.656322e-17</td>\n",
              "      <td>1.656322e-17</td>\n",
              "      <td>1.656322e-17</td>\n",
              "    </tr>\n",
              "    <tr>\n",
              "      <th>4</th>\n",
              "      <td>-1.040540e-20</td>\n",
              "      <td>-1.242097e-20</td>\n",
              "      <td>0.0</td>\n",
              "      <td>-7.970409e-19</td>\n",
              "      <td>4.295882e-21</td>\n",
              "      <td>-1.867968e-19</td>\n",
              "      <td>2.968654e-18</td>\n",
              "      <td>0.0</td>\n",
              "      <td>-6.934653e-20</td>\n",
              "      <td>7.721410e-21</td>\n",
              "      <td>...</td>\n",
              "      <td>-2.204643e-18</td>\n",
              "      <td>-2.204643e-18</td>\n",
              "      <td>0.0</td>\n",
              "      <td>-2.204643e-18</td>\n",
              "      <td>-2.204643e-18</td>\n",
              "      <td>-2.204643e-18</td>\n",
              "      <td>-2.204643e-18</td>\n",
              "      <td>-2.204643e-18</td>\n",
              "      <td>-2.204643e-18</td>\n",
              "      <td>-2.204643e-18</td>\n",
              "    </tr>\n",
              "    <tr>\n",
              "      <th>...</th>\n",
              "      <td>...</td>\n",
              "      <td>...</td>\n",
              "      <td>...</td>\n",
              "      <td>...</td>\n",
              "      <td>...</td>\n",
              "      <td>...</td>\n",
              "      <td>...</td>\n",
              "      <td>...</td>\n",
              "      <td>...</td>\n",
              "      <td>...</td>\n",
              "      <td>...</td>\n",
              "      <td>...</td>\n",
              "      <td>...</td>\n",
              "      <td>...</td>\n",
              "      <td>...</td>\n",
              "      <td>...</td>\n",
              "      <td>...</td>\n",
              "      <td>...</td>\n",
              "      <td>...</td>\n",
              "      <td>...</td>\n",
              "      <td>...</td>\n",
              "    </tr>\n",
              "    <tr>\n",
              "      <th>8613</th>\n",
              "      <td>1.042698e-07</td>\n",
              "      <td>1.590465e-06</td>\n",
              "      <td>0.0</td>\n",
              "      <td>-2.254642e-06</td>\n",
              "      <td>5.710171e-07</td>\n",
              "      <td>-2.101926e-06</td>\n",
              "      <td>7.640194e-04</td>\n",
              "      <td>0.0</td>\n",
              "      <td>8.890386e-07</td>\n",
              "      <td>7.526058e-07</td>\n",
              "      <td>...</td>\n",
              "      <td>-1.594632e-07</td>\n",
              "      <td>-1.594632e-07</td>\n",
              "      <td>0.0</td>\n",
              "      <td>-1.594632e-07</td>\n",
              "      <td>-1.594632e-07</td>\n",
              "      <td>-1.594632e-07</td>\n",
              "      <td>-1.594632e-07</td>\n",
              "      <td>-1.594632e-07</td>\n",
              "      <td>-1.594632e-07</td>\n",
              "      <td>-1.594632e-07</td>\n",
              "    </tr>\n",
              "    <tr>\n",
              "      <th>8614</th>\n",
              "      <td>2.679520e-06</td>\n",
              "      <td>4.367085e-06</td>\n",
              "      <td>0.0</td>\n",
              "      <td>-5.588498e-06</td>\n",
              "      <td>8.007883e-07</td>\n",
              "      <td>7.088423e-06</td>\n",
              "      <td>8.367701e-04</td>\n",
              "      <td>0.0</td>\n",
              "      <td>8.663724e-06</td>\n",
              "      <td>9.202548e-07</td>\n",
              "      <td>...</td>\n",
              "      <td>6.105635e-06</td>\n",
              "      <td>6.105635e-06</td>\n",
              "      <td>0.0</td>\n",
              "      <td>6.105635e-06</td>\n",
              "      <td>6.105635e-06</td>\n",
              "      <td>6.105635e-06</td>\n",
              "      <td>6.105635e-06</td>\n",
              "      <td>6.105635e-06</td>\n",
              "      <td>6.105635e-06</td>\n",
              "      <td>6.105635e-06</td>\n",
              "    </tr>\n",
              "    <tr>\n",
              "      <th>8615</th>\n",
              "      <td>1.226905e-06</td>\n",
              "      <td>1.680613e-05</td>\n",
              "      <td>0.0</td>\n",
              "      <td>-1.404506e-06</td>\n",
              "      <td>2.829148e-06</td>\n",
              "      <td>-6.478610e-05</td>\n",
              "      <td>-1.237403e-05</td>\n",
              "      <td>0.0</td>\n",
              "      <td>5.865253e-05</td>\n",
              "      <td>-9.430550e-08</td>\n",
              "      <td>...</td>\n",
              "      <td>-5.782663e-06</td>\n",
              "      <td>-5.782663e-06</td>\n",
              "      <td>0.0</td>\n",
              "      <td>-5.782663e-06</td>\n",
              "      <td>-5.782663e-06</td>\n",
              "      <td>-5.782663e-06</td>\n",
              "      <td>-5.782663e-06</td>\n",
              "      <td>-5.782663e-06</td>\n",
              "      <td>-5.782663e-06</td>\n",
              "      <td>-5.782663e-06</td>\n",
              "    </tr>\n",
              "    <tr>\n",
              "      <th>8616</th>\n",
              "      <td>6.800464e-06</td>\n",
              "      <td>1.010537e-05</td>\n",
              "      <td>0.0</td>\n",
              "      <td>6.262289e-08</td>\n",
              "      <td>5.144338e-06</td>\n",
              "      <td>2.556074e-05</td>\n",
              "      <td>-4.588965e-07</td>\n",
              "      <td>0.0</td>\n",
              "      <td>4.658547e-05</td>\n",
              "      <td>8.408895e-07</td>\n",
              "      <td>...</td>\n",
              "      <td>-7.876033e-06</td>\n",
              "      <td>-7.876033e-06</td>\n",
              "      <td>0.0</td>\n",
              "      <td>-7.876033e-06</td>\n",
              "      <td>-7.876033e-06</td>\n",
              "      <td>-7.876033e-06</td>\n",
              "      <td>-7.876033e-06</td>\n",
              "      <td>-7.876033e-06</td>\n",
              "      <td>-7.876033e-06</td>\n",
              "      <td>-7.876033e-06</td>\n",
              "    </tr>\n",
              "    <tr>\n",
              "      <th>8617</th>\n",
              "      <td>8.768011e-06</td>\n",
              "      <td>-3.920496e-05</td>\n",
              "      <td>0.0</td>\n",
              "      <td>-1.327293e-05</td>\n",
              "      <td>-4.285122e-06</td>\n",
              "      <td>-8.530786e-05</td>\n",
              "      <td>6.107296e-06</td>\n",
              "      <td>0.0</td>\n",
              "      <td>6.424097e-03</td>\n",
              "      <td>1.264144e-05</td>\n",
              "      <td>...</td>\n",
              "      <td>9.998052e-01</td>\n",
              "      <td>9.998052e-01</td>\n",
              "      <td>0.0</td>\n",
              "      <td>9.998052e-01</td>\n",
              "      <td>9.998052e-01</td>\n",
              "      <td>9.998052e-01</td>\n",
              "      <td>9.998052e-01</td>\n",
              "      <td>9.998052e-01</td>\n",
              "      <td>9.998052e-01</td>\n",
              "      <td>9.998052e-01</td>\n",
              "    </tr>\n",
              "  </tbody>\n",
              "</table>\n",
              "<p>8618 rows × 207330 columns</p>\n",
              "</div>"
            ],
            "text/plain": [
              "item_id        0             1       2             3             4       \\\n",
              "user_id                                                                   \n",
              "0        3.372824e-07  8.931657e-06     0.0 -1.322453e-05  6.836703e-07   \n",
              "1       -2.095458e-07  1.651866e-06     0.0  1.585755e-07  4.262733e-08   \n",
              "2        3.231701e-08  3.403137e-06     0.0 -1.052859e-06  2.073240e-07   \n",
              "3        5.642433e-20  1.039158e-19     0.0  6.121800e-18 -3.424745e-20   \n",
              "4       -1.040540e-20 -1.242097e-20     0.0 -7.970409e-19  4.295882e-21   \n",
              "...               ...           ...     ...           ...           ...   \n",
              "8613     1.042698e-07  1.590465e-06     0.0 -2.254642e-06  5.710171e-07   \n",
              "8614     2.679520e-06  4.367085e-06     0.0 -5.588498e-06  8.007883e-07   \n",
              "8615     1.226905e-06  1.680613e-05     0.0 -1.404506e-06  2.829148e-06   \n",
              "8616     6.800464e-06  1.010537e-05     0.0  6.262289e-08  5.144338e-06   \n",
              "8617     8.768011e-06 -3.920496e-05     0.0 -1.327293e-05 -4.285122e-06   \n",
              "\n",
              "item_id        5             6       7             8             9       ...  \\\n",
              "user_id                                                                  ...   \n",
              "0       -4.774879e-05  9.474291e-04     0.0  9.664367e-06  8.933580e-07  ...   \n",
              "1        4.773616e-06  3.066345e-05     0.0  4.380769e-06  2.194858e-08  ...   \n",
              "2       -4.843679e-06 -6.111273e-06     0.0  5.015399e-06 -2.931927e-08  ...   \n",
              "3        2.521348e-18 -2.284601e-17     0.0  5.362164e-19 -5.929335e-20  ...   \n",
              "4       -1.867968e-19  2.968654e-18     0.0 -6.934653e-20  7.721410e-21  ...   \n",
              "...               ...           ...     ...           ...           ...  ...   \n",
              "8613    -2.101926e-06  7.640194e-04     0.0  8.890386e-07  7.526058e-07  ...   \n",
              "8614     7.088423e-06  8.367701e-04     0.0  8.663724e-06  9.202548e-07  ...   \n",
              "8615    -6.478610e-05 -1.237403e-05     0.0  5.865253e-05 -9.430550e-08  ...   \n",
              "8616     2.556074e-05 -4.588965e-07     0.0  4.658547e-05  8.408895e-07  ...   \n",
              "8617    -8.530786e-05  6.107296e-06     0.0  6.424097e-03  1.264144e-05  ...   \n",
              "\n",
              "item_id        207320        207321  207322        207323        207324  \\\n",
              "user_id                                                                   \n",
              "0        4.560785e-06  4.560785e-06     0.0  4.560785e-06  4.560785e-06   \n",
              "1        1.940328e-08  1.940328e-08     0.0  1.940328e-08  1.940328e-08   \n",
              "2       -3.845174e-06 -3.845174e-06     0.0 -3.845174e-06 -3.845174e-06   \n",
              "3        1.656322e-17  1.656322e-17     0.0  1.656322e-17  1.656322e-17   \n",
              "4       -2.204643e-18 -2.204643e-18     0.0 -2.204643e-18 -2.204643e-18   \n",
              "...               ...           ...     ...           ...           ...   \n",
              "8613    -1.594632e-07 -1.594632e-07     0.0 -1.594632e-07 -1.594632e-07   \n",
              "8614     6.105635e-06  6.105635e-06     0.0  6.105635e-06  6.105635e-06   \n",
              "8615    -5.782663e-06 -5.782663e-06     0.0 -5.782663e-06 -5.782663e-06   \n",
              "8616    -7.876033e-06 -7.876033e-06     0.0 -7.876033e-06 -7.876033e-06   \n",
              "8617     9.998052e-01  9.998052e-01     0.0  9.998052e-01  9.998052e-01   \n",
              "\n",
              "item_id        207325        207326        207327        207328        207329  \n",
              "user_id                                                                        \n",
              "0        4.560785e-06  4.560785e-06  4.560785e-06  4.560785e-06  4.560785e-06  \n",
              "1        1.940328e-08  1.940328e-08  1.940328e-08  1.940328e-08  1.940328e-08  \n",
              "2       -3.845174e-06 -3.845174e-06 -3.845174e-06 -3.845174e-06 -3.845174e-06  \n",
              "3        1.656322e-17  1.656322e-17  1.656322e-17  1.656322e-17  1.656322e-17  \n",
              "4       -2.204643e-18 -2.204643e-18 -2.204643e-18 -2.204643e-18 -2.204643e-18  \n",
              "...               ...           ...           ...           ...           ...  \n",
              "8613    -1.594632e-07 -1.594632e-07 -1.594632e-07 -1.594632e-07 -1.594632e-07  \n",
              "8614     6.105635e-06  6.105635e-06  6.105635e-06  6.105635e-06  6.105635e-06  \n",
              "8615    -5.782663e-06 -5.782663e-06 -5.782663e-06 -5.782663e-06 -5.782663e-06  \n",
              "8616    -7.876033e-06 -7.876033e-06 -7.876033e-06 -7.876033e-06 -7.876033e-06  \n",
              "8617     9.998052e-01  9.998052e-01  9.998052e-01  9.998052e-01  9.998052e-01  \n",
              "\n",
              "[8618 rows x 207330 columns]"
            ]
          },
          "metadata": {
            "tags": []
          },
          "execution_count": 25
        }
      ]
    },
    {
      "cell_type": "markdown",
      "metadata": {
        "id": "rTeCPQmoA0UI"
      },
      "source": [
        "## Social Bias"
      ]
    },
    {
      "cell_type": "markdown",
      "metadata": {
        "id": "NFTQa3GjA0UI"
      },
      "source": [
        "#### Map Social friendship/Trust between users using their Transaction History"
      ]
    },
    {
      "cell_type": "code",
      "metadata": {
        "id": "W2WiPiD0G8mL"
      },
      "source": [
        "#calculating total number of transactions between user1 and user2\n",
        "\n",
        "#Using Dict, key=(giver_user_id,receiver_user_id) ,value = total number of transactions between giver_user_id and receiver_user_id .\n",
        "#return: It is returning dict which contains all the number of transactions between giver and reciever. \n",
        "\n",
        "\n",
        "def transactions_U1_U2(transac_df):\n",
        "  \n",
        "  socialfactorU1_U2_Dict={}\n",
        "  \n",
        "  for i,row in transac_df.iterrows():\n",
        "    # print(i['giver_user_id'])\n",
        "    key=(row['giver_user_id'],row['receiver_user_id'])\n",
        "    if key in socialfactorU1_U2_Dict:\n",
        "      \n",
        "      socialfactorU1_U2_Dict[key]=socialfactorU1_U2_Dict[key]+1\n",
        "    else:\n",
        "      \n",
        "      socialfactorU1_U2_Dict[key]=1\n",
        "  # print(tempkey)\n",
        "  return socialfactorU1_U2_Dict"
      ],
      "execution_count": null,
      "outputs": []
    },
    {
      "cell_type": "code",
      "metadata": {
        "id": "mcFOvPDSA0UK"
      },
      "source": [
        "socialfactorU1_U2_Dict=transactions_U1_U2(transac_df)"
      ],
      "execution_count": null,
      "outputs": []
    },
    {
      "cell_type": "code",
      "metadata": {
        "id": "A6FkZu87A0UK",
        "outputId": "79afb296-2440-4f56-b0db-a1f772a79c20"
      },
      "source": [
        "len(socialfactorU1_U2_Dict)"
      ],
      "execution_count": null,
      "outputs": [
        {
          "output_type": "execute_result",
          "data": {
            "text/plain": [
              "109628"
            ]
          },
          "metadata": {
            "tags": []
          },
          "execution_count": 28
        }
      ]
    },
    {
      "cell_type": "markdown",
      "metadata": {
        "id": "EmDFJdP0A0UM"
      },
      "source": [
        "#### Map All the users in Have_df to retrieve the users having a particular Item Id"
      ]
    },
    {
      "cell_type": "code",
      "metadata": {
        "id": "UNp3IMFMA0UM"
      },
      "source": [
        "#In this we are retrieving a list of all the users having a specific item in the form of {\"itemid\":[\"user1\",\"user2\"],\"itemid2\":[\"user3\"] }from have_df.\n",
        "#after this we will call recommend a user from above list who is having that item and high social bias score for that particular user.\n",
        "\n",
        "#haveDict is the dictionary for all the users having that item\n",
        "def retrieveAllUsersHavingThatItem(have_df):\n",
        "    \n",
        "    haveDict = {}\n",
        "\n",
        "    tempKey = 0\n",
        "    for i,row in have_df.iterrows():\n",
        "        # print(i['giver_user_id'])\n",
        "        value=row['user_id']\n",
        "        key=row['item_id']\n",
        "        if key in haveDict:\n",
        "            if value not in haveDict[key]:\n",
        "                haveDict[key].append(value)\n",
        "        else:\n",
        "            haveDict[key] = [value]\n",
        "    return haveDict"
      ],
      "execution_count": null,
      "outputs": []
    },
    {
      "cell_type": "code",
      "metadata": {
        "id": "u4d73TY4A0UN"
      },
      "source": [
        "UsersHavingThatItem_map=retrieveAllUsersHavingThatItem(have_df)"
      ],
      "execution_count": null,
      "outputs": []
    },
    {
      "cell_type": "code",
      "metadata": {
        "id": "jVaxSbyJA0UO",
        "outputId": "d8d46530-ed7d-4105-a885-3b6083c38cab"
      },
      "source": [
        "len(UsersHavingThatItem_map)"
      ],
      "execution_count": null,
      "outputs": [
        {
          "output_type": "execute_result",
          "data": {
            "text/plain": [
              "65678"
            ]
          },
          "metadata": {
            "tags": []
          },
          "execution_count": 31
        }
      ]
    },
    {
      "cell_type": "markdown",
      "metadata": {
        "id": "l5OXauhjA0UO"
      },
      "source": [
        "#### SocialActivity Factor counts the number of transactions an individual User has done based on his past transactions"
      ]
    },
    {
      "cell_type": "code",
      "metadata": {
        "id": "IAwt6wr7A0UP"
      },
      "source": [
        "#Calculating the value of transactionCountFactor to check if the user is socially Active?\n",
        "#Adding the sociallyActiveUserFactor to the result of social bias to get the socialScore\n",
        "\n",
        "\n",
        "#Transaction Count \n",
        "def getSocialActivityFactor(transac_df,pairs_df):\n",
        "    transactionCount = {}\n",
        "    max_variable = 0\n",
        "    #Transactions from transac_df\n",
        "    for i,row in transac_df.iterrows():\n",
        "        # print(i['giver_user_id'])\n",
        "        key1 = row['giver_user_id']\n",
        "        key2 = row['receiver_user_id']\n",
        "\n",
        "        if key1 in transactionCount:\n",
        "            transactionCount[key1] = transactionCount[key1]+1\n",
        "            max_variable = max(max_variable,transactionCount[key1])\n",
        "        else:\n",
        "            transactionCount[key1] = 1\n",
        "\n",
        "        if key2 in transactionCount:\n",
        "            transactionCount[key2] = transactionCount[key2]+1\n",
        "            max_variable = max(max_variable,transactionCount[key2])\n",
        "        else:\n",
        "            transactionCount[key2] = 1\n",
        "            \n",
        "    #Transactions from pairs_df\n",
        "    for i,row in pairs_df.iterrows():\n",
        "        # print(i['giver_user_id'])\n",
        "        key1 = row['user1_id']\n",
        "        key2 = row['user2_id']\n",
        "\n",
        "        if key1 in transactionCount:\n",
        "            transactionCount[key1] = transactionCount[key1]\n",
        "            max_variable = max(max_variable,transactionCount[key1])\n",
        "        else:\n",
        "            transactionCount[key1] = 1\n",
        "        if key2 in transactionCount:\n",
        "            transactionCount[key2] = transactionCount[key2]\n",
        "            max_variable = max(max_variable,transactionCount[key2])\n",
        "        else:\n",
        "            transactionCount[key2] = 1\n",
        "#     print (max_variable) \n",
        "    return transactionCount,max_variable"
      ],
      "execution_count": null,
      "outputs": []
    },
    {
      "cell_type": "code",
      "metadata": {
        "id": "xkh64GLsA0UR"
      },
      "source": [
        "socialActivityDict,maxTransaction= getSocialActivityFactor(transac_df,pairs_df)"
      ],
      "execution_count": null,
      "outputs": []
    },
    {
      "cell_type": "markdown",
      "metadata": {
        "id": "dSCuos61A0US"
      },
      "source": [
        "#### Social Bias Score gives the normalised score based on the User Activity and User-User Transactions"
      ]
    },
    {
      "cell_type": "code",
      "metadata": {
        "id": "EEvE1FbHA0US"
      },
      "source": [
        "def socialBiasScore(userId,itemId):\n",
        "\n",
        "    giverId = 0\n",
        "    maximumScore = 0\n",
        "    if itemId in UsersHavingThatItem_map:\n",
        "        for i in UsersHavingThatItem_map[itemId]:\n",
        "            try:\n",
        "                maximumScore = max(maximumScore,socialfactorU1_U2_Dict[i][userId])\n",
        "                \n",
        "                giverId = i\n",
        "            except:\n",
        "                try:\n",
        "                    maximumScore = max(maximumScore,socialfactorU1_U2_Dict[userId][i])\n",
        "                    giverId = i\n",
        "                except:\n",
        "                    pass\n",
        "    \n",
        "    \n",
        "    if maximumScore == 0:\n",
        "        if userId in socialActivityDict:\n",
        "            return (socialActivityDict[userId]/len(socialActivityDict))\n",
        "        \n",
        "        return 0\n",
        "    \n",
        "\n",
        "    social_bias_score=  (maximumScore/maxTransaction)    \n",
        "    print(maxTransaction)   \n",
        "    return social_bias_score"
      ],
      "execution_count": null,
      "outputs": []
    },
    {
      "cell_type": "markdown",
      "metadata": {
        "id": "zW9DcFTqyYH3"
      },
      "source": [
        "# Evaluation "
      ]
    },
    {
      "cell_type": "code",
      "metadata": {
        "id": "tPAuiJ7ZygLD"
      },
      "source": [
        "def print_full(x):\n",
        "  pd.set_option('display.max_rows', len(x))\n",
        "#   print(x)\n",
        "  pd.reset_option('display.max_rows')\n",
        "\n",
        "\n",
        "def get_test_test_triplates(predicted_user_items_df, test_df, user_item, user_id_map, item_id_map,socialBias):\n",
        "\n",
        "  def find_predicted_for_liked_item(user_id, item_id):\n",
        "    \n",
        "    socialBiasValue = socialBiasScore(user_id,item_id)\n",
        "   \n",
        "    if socialBias:\n",
        "        return predicted_user_items_df.iloc[user_id][item_id].item() + socialBiasValue\n",
        "        #return sum(predicted_user_items_df.iloc[user_id][item_id].item() ,float(socialBiasScore(user_id,item_id,have_df,socialBiasFactorDict)))\n",
        "    else:\n",
        "        return predicted_user_items_df.iloc[user_id][item_id].item()\n",
        "        \n",
        "\n",
        "  def get_random_item_for_user(user_id):\n",
        "    random_item_id = random.randrange(0, len(item_id_map)) \n",
        "\n",
        "    liked_item_ids_for_user = set(user_item[user_item[\"user_id\"] == user_id][\"item_id\"].values)\n",
        "    if not random_item_id in liked_item_ids_for_user:\n",
        "      return random_item_id\n",
        "\n",
        "    while random_item_id in liked_item_ids_for_user:\n",
        "      random_item_id = random.randrange(0, len(item_id_map))\n",
        "    return random_item_id\n",
        "\n",
        "  def find_predicted_for_random_item(user_id, item_id):\n",
        "#     print(user_id)\n",
        "#     print(item_id)\n",
        "    return predicted_user_items_df.iloc[int(user_id)][int(item_id)].item()\n",
        "\n",
        "  \n",
        "  evaluation_df = test_df[[\"user_id\",\t\"item_id\"]].rename({'item_id': 'liked_item_id'}, axis='columns')\n",
        "  evaluation_df[\"prediction_for_liked\"] = evaluation_df.apply(lambda s: find_predicted_for_liked_item(s[\"user_id\"], s[\"liked_item_id\"]), axis=1)\n",
        "  evaluation_df[\"random_item_id\"] = evaluation_df.apply(lambda s: get_random_item_for_user(s[\"user_id\"]), axis=1)\n",
        "  evaluation_df[\"prediction_for_random\"] = evaluation_df.apply(lambda s: find_predicted_for_random_item(s[\"user_id\"], s[\"random_item_id\"]), axis=1)\n",
        "\n",
        "  return evaluation_df"
      ],
      "execution_count": null,
      "outputs": []
    },
    {
      "cell_type": "code",
      "metadata": {
        "id": "fji7_uUYytRB"
      },
      "source": [
        "evaluation_df = get_test_test_triplates(predicted_user_items_df, test_df, user_item, user_id_map, item_id_map,False)\n"
      ],
      "execution_count": null,
      "outputs": []
    },
    {
      "cell_type": "code",
      "metadata": {
        "id": "0cKqXDA6A0UV"
      },
      "source": [
        "evaluation_df_social = get_test_test_triplates(predicted_user_items_df, test_df, user_item, user_id_map, item_id_map,True)\n"
      ],
      "execution_count": null,
      "outputs": []
    },
    {
      "cell_type": "code",
      "metadata": {
        "id": "3NFKwRBE5S4H",
        "outputId": "897bac63-2e44-4f1a-efad-a9ea9c0d92e8"
      },
      "source": [
        "evaluation_df.head()"
      ],
      "execution_count": null,
      "outputs": [
        {
          "output_type": "execute_result",
          "data": {
            "text/html": [
              "<div>\n",
              "<style scoped>\n",
              "    .dataframe tbody tr th:only-of-type {\n",
              "        vertical-align: middle;\n",
              "    }\n",
              "\n",
              "    .dataframe tbody tr th {\n",
              "        vertical-align: top;\n",
              "    }\n",
              "\n",
              "    .dataframe thead th {\n",
              "        text-align: right;\n",
              "    }\n",
              "</style>\n",
              "<table border=\"1\" class=\"dataframe\">\n",
              "  <thead>\n",
              "    <tr style=\"text-align: right;\">\n",
              "      <th></th>\n",
              "      <th>user_id</th>\n",
              "      <th>liked_item_id</th>\n",
              "      <th>prediction_for_liked</th>\n",
              "      <th>random_item_id</th>\n",
              "      <th>prediction_for_random</th>\n",
              "    </tr>\n",
              "  </thead>\n",
              "  <tbody>\n",
              "    <tr>\n",
              "      <th>222945</th>\n",
              "      <td>6515</td>\n",
              "      <td>123038</td>\n",
              "      <td>0.0</td>\n",
              "      <td>124383</td>\n",
              "      <td>-8.001543e-13</td>\n",
              "    </tr>\n",
              "    <tr>\n",
              "      <th>299877</th>\n",
              "      <td>8617</td>\n",
              "      <td>207233</td>\n",
              "      <td>0.0</td>\n",
              "      <td>52492</td>\n",
              "      <td>1.797751e-03</td>\n",
              "    </tr>\n",
              "    <tr>\n",
              "      <th>298520</th>\n",
              "      <td>8576</td>\n",
              "      <td>110031</td>\n",
              "      <td>0.0</td>\n",
              "      <td>169275</td>\n",
              "      <td>6.287296e-20</td>\n",
              "    </tr>\n",
              "    <tr>\n",
              "      <th>93304</th>\n",
              "      <td>2604</td>\n",
              "      <td>114003</td>\n",
              "      <td>0.0</td>\n",
              "      <td>72734</td>\n",
              "      <td>1.981969e-04</td>\n",
              "    </tr>\n",
              "    <tr>\n",
              "      <th>55995</th>\n",
              "      <td>1399</td>\n",
              "      <td>84031</td>\n",
              "      <td>0.0</td>\n",
              "      <td>91298</td>\n",
              "      <td>0.000000e+00</td>\n",
              "    </tr>\n",
              "  </tbody>\n",
              "</table>\n",
              "</div>"
            ],
            "text/plain": [
              "        user_id  liked_item_id  prediction_for_liked  random_item_id  \\\n",
              "222945     6515         123038                   0.0          124383   \n",
              "299877     8617         207233                   0.0           52492   \n",
              "298520     8576         110031                   0.0          169275   \n",
              "93304      2604         114003                   0.0           72734   \n",
              "55995      1399          84031                   0.0           91298   \n",
              "\n",
              "        prediction_for_random  \n",
              "222945          -8.001543e-13  \n",
              "299877           1.797751e-03  \n",
              "298520           6.287296e-20  \n",
              "93304            1.981969e-04  \n",
              "55995            0.000000e+00  "
            ]
          },
          "metadata": {
            "tags": []
          },
          "execution_count": 38
        }
      ]
    },
    {
      "cell_type": "code",
      "metadata": {
        "id": "Z_ONWmbC5Ydi"
      },
      "source": [
        "def evaluation_func(evaluation_df):\n",
        "  def get_difference(liked_item_pred, random_item_pred):\n",
        "    diff = liked_item_pred - random_item_pred\n",
        "    if diff > 0:\n",
        "      return 1\n",
        "    else:\n",
        "      return 0\n",
        "  evaluation_df[\"difference\"] = evaluation_df.apply(lambda s: get_difference(s[\"prediction_for_liked\"], s[\"prediction_for_random\"]), axis=1)\n",
        "  return evaluation_df[\"difference\"].sum()/evaluation_df[\"difference\"].count()"
      ],
      "execution_count": null,
      "outputs": []
    },
    {
      "cell_type": "code",
      "metadata": {
        "id": "NFnqSABLA0UX"
      },
      "source": [
        "from scipy.sparse.linalg import svds\n",
        "\n",
        "\n",
        "for n in range(50, 500, 50):\n",
        "\tprint(f\"N: {n}\")\n",
        "  U, sigma, Vt = svds(matrix, k = n)\n",
        "  sigma = np.diag(sigma)\n",
        "\n",
        "\n",
        "  predicted_user_items = np.dot(np.dot(U, sigma), Vt)\n",
        "  predicted_user_items_df = pd.DataFrame(predicted_user_items, columns = matrix_df.columns)\n",
        "  predicted_user_items_df = predicted_user_items_df.rename_axis('user_id').rename_axis(\"item_id\", axis=\"columns\")\n",
        "\n",
        "\tevaluation_df = get_test_test_triplates(predicted_user_items_df, test_df, user_item, user_id_map, item_id_map,False)\n",
        "\te = evaluation_func(evaluation_df)\n",
        "\tprint(f\"Social Bias: False E: {e}\")\n",
        "\n",
        "\tevaluation_df_social = get_test_test_triplates(predicted_user_items_df, test_df, user_item, user_id_map, item_id_map,True)\n",
        "\te = evaluation_func(evaluation_df_social)\n",
        " \n",
        "\tprint(f\"Social Bias: True E: {e}\")"
      ],
      "execution_count": null,
      "outputs": []
    },
    {
      "cell_type": "code",
      "metadata": {
        "id": "IfJQC_pHA0UX"
      },
      "source": [
        "e_1 = evaluation_func(evaluation_df) #nfactors=100 \n"
      ],
      "execution_count": null,
      "outputs": []
    },
    {
      "cell_type": "code",
      "metadata": {
        "id": "pq7iPUKuA0UY",
        "outputId": "abf05be9-21f0-4fb0-eea1-5233a4b519cf"
      },
      "source": [
        "print(e_1)"
      ],
      "execution_count": null,
      "outputs": [
        {
          "output_type": "stream",
          "text": [
            "0.5412333333333333\n"
          ],
          "name": "stdout"
        }
      ]
    },
    {
      "cell_type": "code",
      "metadata": {
        "id": "18SqQ5oDA0Uc"
      },
      "source": [
        "e1 = evaluation_func(evaluation_df_social)  #nfactors=100"
      ],
      "execution_count": null,
      "outputs": []
    },
    {
      "cell_type": "code",
      "metadata": {
        "id": "nDmmZrq7A0Ud",
        "outputId": "8e74c9f0-d7ca-4465-f4a8-7b6bc76e61c5"
      },
      "source": [
        "print(e1)"
      ],
      "execution_count": null,
      "outputs": [
        {
          "output_type": "stream",
          "text": [
            "0.6167833333333334\n"
          ],
          "name": "stdout"
        }
      ]
    },
    {
      "cell_type": "code",
      "metadata": {
        "id": "WxoRFhc_A0Ud"
      },
      "source": [
        ""
      ],
      "execution_count": null,
      "outputs": []
    },
    {
      "cell_type": "code",
      "metadata": {
        "id": "k7Zj0OBcA0Ud"
      },
      "source": [
        "# e_1 = evaluation_func(evaluation_df) #nfactors=50 with best result\n"
      ],
      "execution_count": null,
      "outputs": []
    },
    {
      "cell_type": "code",
      "metadata": {
        "id": "cPbVidaDA0Ue",
        "outputId": "92309be4-f7cc-4fa1-e6e1-c9a764595762"
      },
      "source": [
        "qprint(e_1)"
      ],
      "execution_count": null,
      "outputs": [
        {
          "output_type": "error",
          "ename": "NameError",
          "evalue": "name 'qprint' is not defined",
          "traceback": [
            "\u001b[0;31m---------------------------------------------------------------------------\u001b[0m",
            "\u001b[0;31mNameError\u001b[0m                                 Traceback (most recent call last)",
            "\u001b[0;32m<ipython-input-45-a10f785fa2d0>\u001b[0m in \u001b[0;36m<module>\u001b[0;34m()\u001b[0m\n\u001b[0;32m----> 1\u001b[0;31m \u001b[0mqprint\u001b[0m\u001b[0;34m(\u001b[0m\u001b[0me_1\u001b[0m\u001b[0;34m)\u001b[0m\u001b[0;34m\u001b[0m\u001b[0m\n\u001b[0m",
            "\u001b[0;31mNameError\u001b[0m: name 'qprint' is not defined"
          ]
        }
      ]
    },
    {
      "cell_type": "code",
      "metadata": {
        "id": "5DPMpUIJA0Ue"
      },
      "source": [
        "e1 = evaluation_func(evaluation_df_social)  #nfactors=50 with best result"
      ],
      "execution_count": null,
      "outputs": []
    },
    {
      "cell_type": "code",
      "metadata": {
        "id": "JiTMwKfoA0Ue"
      },
      "source": [
        "print(e1)"
      ],
      "execution_count": null,
      "outputs": []
    },
    {
      "cell_type": "code",
      "metadata": {
        "id": "yrwLjx1UA0Uf"
      },
      "source": [
        ""
      ],
      "execution_count": null,
      "outputs": []
    },
    {
      "cell_type": "code",
      "metadata": {
        "id": "Z2IGuxl46F-z"
      },
      "source": [
        "e = evaluation_func(evaluation_df) #nfactors=50"
      ],
      "execution_count": null,
      "outputs": []
    },
    {
      "cell_type": "code",
      "metadata": {
        "id": "im7R_qv06Tm8"
      },
      "source": [
        "print(e)"
      ],
      "execution_count": null,
      "outputs": []
    },
    {
      "cell_type": "code",
      "metadata": {
        "id": "zmwUHZyVA0Uf"
      },
      "source": [
        "e_1 = evaluation_func(evaluation_df) #nfactors=50\n"
      ],
      "execution_count": null,
      "outputs": []
    },
    {
      "cell_type": "code",
      "metadata": {
        "id": "rcgRSJsWA0Ug"
      },
      "source": [
        "print(e_1)"
      ],
      "execution_count": null,
      "outputs": []
    },
    {
      "cell_type": "code",
      "metadata": {
        "id": "vaDzcpl5A0Ug"
      },
      "source": [
        "e1 = evaluation_func(evaluation_df_social)  #nfactors=50"
      ],
      "execution_count": null,
      "outputs": []
    },
    {
      "cell_type": "code",
      "metadata": {
        "id": "NC95JBuXA0Ug"
      },
      "source": [
        "print(e1)"
      ],
      "execution_count": null,
      "outputs": []
    },
    {
      "cell_type": "code",
      "metadata": {
        "id": "6kYqj_XdA0Uh"
      },
      "source": [
        "e2 = evaluation_func(evaluation_df_social)  #nfactors=50"
      ],
      "execution_count": null,
      "outputs": []
    },
    {
      "cell_type": "code",
      "metadata": {
        "id": "HZ6rOFi3A0Uh"
      },
      "source": [
        "print(e2)"
      ],
      "execution_count": null,
      "outputs": []
    },
    {
      "cell_type": "code",
      "metadata": {
        "id": "0FZr1ff4A0Ui"
      },
      "source": [
        ""
      ],
      "execution_count": null,
      "outputs": []
    },
    {
      "cell_type": "code",
      "metadata": {
        "id": "AZNcBAbhA0Ui"
      },
      "source": [
        "e_3 = evaluation_func(evaluation_df)  #nfactors=50\n"
      ],
      "execution_count": null,
      "outputs": []
    },
    {
      "cell_type": "code",
      "metadata": {
        "id": "fF92WCQSA0Ui"
      },
      "source": [
        "print(e_3)"
      ],
      "execution_count": null,
      "outputs": []
    },
    {
      "cell_type": "code",
      "metadata": {
        "id": "qyjfuSO8A0Uj"
      },
      "source": [
        "e3 = evaluation_func(evaluation_df_social) #nfactors=50"
      ],
      "execution_count": null,
      "outputs": []
    },
    {
      "cell_type": "code",
      "metadata": {
        "id": "qoKQgl-GA0Uj"
      },
      "source": [
        "print(e3)"
      ],
      "execution_count": null,
      "outputs": []
    },
    {
      "cell_type": "code",
      "metadata": {
        "id": "dkK3kgfNA0Uk"
      },
      "source": [
        ""
      ],
      "execution_count": null,
      "outputs": []
    },
    {
      "cell_type": "code",
      "metadata": {
        "id": "1U08m3K7A0Uk"
      },
      "source": [
        "e_4 = evaluation_func(evaluation_df) #nfactors=50\n"
      ],
      "execution_count": null,
      "outputs": []
    },
    {
      "cell_type": "code",
      "metadata": {
        "id": "jvkGWW3IA0Uk"
      },
      "source": [
        "print(e_4)"
      ],
      "execution_count": null,
      "outputs": []
    },
    {
      "cell_type": "code",
      "metadata": {
        "id": "C9FyE0s-A0Ul"
      },
      "source": [
        "e4 = evaluation_func(evaluation_df_social)  #nfactors=50"
      ],
      "execution_count": null,
      "outputs": []
    },
    {
      "cell_type": "code",
      "metadata": {
        "id": "RucCVNDVA0Ul"
      },
      "source": [
        "print(e4)"
      ],
      "execution_count": null,
      "outputs": []
    },
    {
      "cell_type": "code",
      "metadata": {
        "id": "Crtc0CvHA0Um"
      },
      "source": [
        ""
      ],
      "execution_count": null,
      "outputs": []
    },
    {
      "cell_type": "code",
      "metadata": {
        "id": "m3sMsM8qA0Un"
      },
      "source": [
        "e_5 = evaluation_func(evaluation_df) #nfactors=1000\n"
      ],
      "execution_count": null,
      "outputs": []
    },
    {
      "cell_type": "code",
      "metadata": {
        "id": "VdoAkgjFA0Un"
      },
      "source": [
        "print(e_5)"
      ],
      "execution_count": null,
      "outputs": []
    },
    {
      "cell_type": "code",
      "metadata": {
        "id": "mKW9LhXyA0Uo"
      },
      "source": [
        "e5 = evaluation_func(evaluation_df_social) #nfactors=1000"
      ],
      "execution_count": null,
      "outputs": []
    },
    {
      "cell_type": "code",
      "metadata": {
        "id": "LKB9rLuxA0Uo"
      },
      "source": [
        "print(e5)"
      ],
      "execution_count": null,
      "outputs": []
    },
    {
      "cell_type": "code",
      "metadata": {
        "id": "cTR4C5E4A0Uo"
      },
      "source": [
        ""
      ],
      "execution_count": null,
      "outputs": []
    },
    {
      "cell_type": "code",
      "metadata": {
        "id": "m7Cuy6DJA0Uo"
      },
      "source": [
        "e_6 = evaluation_func(evaluation_df) #nfactors=100\n"
      ],
      "execution_count": null,
      "outputs": []
    },
    {
      "cell_type": "code",
      "metadata": {
        "id": "I7-cmg6jA0Up"
      },
      "source": [
        "print(e_6)"
      ],
      "execution_count": null,
      "outputs": []
    },
    {
      "cell_type": "code",
      "metadata": {
        "id": "xE008xbMA0Up"
      },
      "source": [
        "e6 = evaluation_func(evaluation_df_social) #nfactors=100"
      ],
      "execution_count": null,
      "outputs": []
    },
    {
      "cell_type": "code",
      "metadata": {
        "id": "BApU5KJcA0Uq"
      },
      "source": [
        "print(e6)"
      ],
      "execution_count": null,
      "outputs": []
    },
    {
      "cell_type": "code",
      "metadata": {
        "id": "EACputXlA0Uq"
      },
      "source": [
        ""
      ],
      "execution_count": null,
      "outputs": []
    },
    {
      "cell_type": "code",
      "metadata": {
        "id": "KZ5flzY3A0Uq"
      },
      "source": [
        "e_7 = evaluation_func(evaluation_df) #nfactors=10\n"
      ],
      "execution_count": null,
      "outputs": []
    },
    {
      "cell_type": "code",
      "metadata": {
        "id": "tRHoVUE9A0Ur"
      },
      "source": [
        "print(e_7)"
      ],
      "execution_count": null,
      "outputs": []
    },
    {
      "cell_type": "code",
      "metadata": {
        "id": "cH72FT4yA0Ur"
      },
      "source": [
        "e7 = evaluation_func(evaluation_df_social) #nfactors=10"
      ],
      "execution_count": null,
      "outputs": []
    },
    {
      "cell_type": "code",
      "metadata": {
        "id": "fsatBQMrA0Us"
      },
      "source": [
        "print(e7)"
      ],
      "execution_count": null,
      "outputs": []
    },
    {
      "cell_type": "code",
      "metadata": {
        "id": "w0FbcFHCA0Us"
      },
      "source": [
        ""
      ],
      "execution_count": null,
      "outputs": []
    },
    {
      "cell_type": "code",
      "metadata": {
        "id": "EIXdU_-4A0Us"
      },
      "source": [
        "e_8 = evaluation_func(evaluation_df) #nfactors=200\n"
      ],
      "execution_count": null,
      "outputs": []
    },
    {
      "cell_type": "code",
      "metadata": {
        "id": "ICVQ81GRA0Us"
      },
      "source": [
        "print(e_8)"
      ],
      "execution_count": null,
      "outputs": []
    },
    {
      "cell_type": "code",
      "metadata": {
        "id": "vpAmuAbFA0Us"
      },
      "source": [
        "e8 = evaluation_func(evaluation_df_social) #nfactors=200"
      ],
      "execution_count": null,
      "outputs": []
    },
    {
      "cell_type": "code",
      "metadata": {
        "id": "uQT7Oa4aA0Us"
      },
      "source": [
        "print(e8)"
      ],
      "execution_count": null,
      "outputs": []
    },
    {
      "cell_type": "code",
      "metadata": {
        "id": "iFhohfZpA0Ut"
      },
      "source": [
        ""
      ],
      "execution_count": null,
      "outputs": []
    },
    {
      "cell_type": "code",
      "metadata": {
        "id": "FX7zx86xA0Ut"
      },
      "source": [
        "e_8 = evaluation_func(evaluation_df) #nfactors=150\n"
      ],
      "execution_count": null,
      "outputs": []
    },
    {
      "cell_type": "code",
      "metadata": {
        "id": "B79WTCgqA0Ut"
      },
      "source": [
        "print(e_8)"
      ],
      "execution_count": null,
      "outputs": []
    },
    {
      "cell_type": "code",
      "metadata": {
        "id": "JwaWUECVA0Ut"
      },
      "source": [
        "e8 = evaluation_func(evaluation_df_social) #nfactors=150"
      ],
      "execution_count": null,
      "outputs": []
    },
    {
      "cell_type": "code",
      "metadata": {
        "id": "hTK6VdPnA0Ut"
      },
      "source": [
        "print(e8)"
      ],
      "execution_count": null,
      "outputs": []
    },
    {
      "cell_type": "code",
      "metadata": {
        "id": "d5Y20SCYA0Uu"
      },
      "source": [
        ""
      ],
      "execution_count": null,
      "outputs": []
    },
    {
      "cell_type": "code",
      "metadata": {
        "id": "61xWYmvLA0Uu"
      },
      "source": [
        "e_8 = evaluation_func(evaluation_df) #nfactors=80\n"
      ],
      "execution_count": null,
      "outputs": []
    },
    {
      "cell_type": "code",
      "metadata": {
        "id": "maecaF7fA0Uu"
      },
      "source": [
        "print(e_8)"
      ],
      "execution_count": null,
      "outputs": []
    },
    {
      "cell_type": "code",
      "metadata": {
        "id": "4PvgzwoVA0Uu"
      },
      "source": [
        "e8 = evaluation_func(evaluation_df_social) #nfactors=80"
      ],
      "execution_count": null,
      "outputs": []
    },
    {
      "cell_type": "code",
      "metadata": {
        "id": "4M_-JpE2A0Uv"
      },
      "source": [
        "print(e8)"
      ],
      "execution_count": null,
      "outputs": []
    },
    {
      "cell_type": "code",
      "metadata": {
        "id": "-nO2J-UcA0Uv"
      },
      "source": [
        ""
      ],
      "execution_count": null,
      "outputs": []
    },
    {
      "cell_type": "code",
      "metadata": {
        "id": "3j9gd7UUA0Uv"
      },
      "source": [
        "e_8 = evaluation_func(evaluation_df) #nfactors=500\n"
      ],
      "execution_count": null,
      "outputs": []
    },
    {
      "cell_type": "code",
      "metadata": {
        "id": "8mFCKDh7A0Uv"
      },
      "source": [
        "print(e_8)"
      ],
      "execution_count": null,
      "outputs": []
    },
    {
      "cell_type": "code",
      "metadata": {
        "id": "e1uISsGGA0Uv"
      },
      "source": [
        "e8 = evaluation_func(evaluation_df_social) #nfactors=500"
      ],
      "execution_count": null,
      "outputs": []
    },
    {
      "cell_type": "code",
      "metadata": {
        "id": "D-orMSg-A0Uw"
      },
      "source": [
        "print(e8)"
      ],
      "execution_count": null,
      "outputs": []
    },
    {
      "cell_type": "code",
      "metadata": {
        "id": "yyqaur5jA0Uw"
      },
      "source": [
        ""
      ],
      "execution_count": null,
      "outputs": []
    },
    {
      "cell_type": "code",
      "metadata": {
        "id": "n8zLzl5OA0Uw"
      },
      "source": [
        "e_9 = evaluation_func(evaluation_df) #nfactors=5\n"
      ],
      "execution_count": null,
      "outputs": []
    },
    {
      "cell_type": "code",
      "metadata": {
        "id": "DlIpslYxA0Uw"
      },
      "source": [
        "print(e_9)"
      ],
      "execution_count": null,
      "outputs": []
    },
    {
      "cell_type": "code",
      "metadata": {
        "id": "eSUD_ScSA0Uw"
      },
      "source": [
        "e9 = evaluation_func(evaluation_df_social) #nfactors=5"
      ],
      "execution_count": null,
      "outputs": []
    },
    {
      "cell_type": "code",
      "metadata": {
        "id": "FTa4pKyKA0Ux"
      },
      "source": [
        "print(e9)"
      ],
      "execution_count": null,
      "outputs": []
    },
    {
      "cell_type": "code",
      "metadata": {
        "id": "9dg8KcO4A0Ux"
      },
      "source": [
        ""
      ],
      "execution_count": null,
      "outputs": []
    },
    {
      "cell_type": "code",
      "metadata": {
        "id": "tj8Ido97A0Ux"
      },
      "source": [
        "e_9 = evaluation_func(evaluation_df) #nfactors=250\n"
      ],
      "execution_count": null,
      "outputs": []
    },
    {
      "cell_type": "code",
      "metadata": {
        "id": "IQdFFUX-A0Ux"
      },
      "source": [
        "print(e_9)"
      ],
      "execution_count": null,
      "outputs": []
    },
    {
      "cell_type": "code",
      "metadata": {
        "id": "wSt-FjTGA0Ux"
      },
      "source": [
        "e9 = evaluation_func(evaluation_df_social) #nfactors=250"
      ],
      "execution_count": null,
      "outputs": []
    },
    {
      "cell_type": "code",
      "metadata": {
        "id": "68HI8dxGA0Uy"
      },
      "source": [
        "print(e9)"
      ],
      "execution_count": null,
      "outputs": []
    },
    {
      "cell_type": "code",
      "metadata": {
        "id": "N3fTglPMA0Uy"
      },
      "source": [
        ""
      ],
      "execution_count": null,
      "outputs": []
    },
    {
      "cell_type": "code",
      "metadata": {
        "id": "Qei_0a6tA0Uy"
      },
      "source": [
        "e_9 = evaluation_func(evaluation_df) #nfactors=2000\n"
      ],
      "execution_count": null,
      "outputs": []
    },
    {
      "cell_type": "code",
      "metadata": {
        "id": "9ipbSv8YA0Uz"
      },
      "source": [
        "print(e_9)"
      ],
      "execution_count": null,
      "outputs": []
    },
    {
      "cell_type": "code",
      "metadata": {
        "id": "4kn_Kv3HA0Uz"
      },
      "source": [
        "e9 = evaluation_func(evaluation_df_social) #nfactors=2000"
      ],
      "execution_count": null,
      "outputs": []
    }
  ]
}