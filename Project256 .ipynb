{
 "cells": [
  {
   "cell_type": "markdown",
   "metadata": {},
   "source": [
    "# To build a recommender system that matches users for a trade based on their wanted and selling list"
   ]
  },
  {
   "cell_type": "code",
   "execution_count": 1,
   "metadata": {
    "id": "kT_UO5KVz0Oa"
   },
   "outputs": [],
   "source": [
    "#  %cd /content/drive/MyDrive/CMPE_256_Project\n",
    "#  ! git clone https://github.com/swapit/code.git"
   ]
  },
  {
   "cell_type": "markdown",
   "metadata": {},
   "source": [
    "## Required Imports"
   ]
  },
  {
   "cell_type": "code",
   "execution_count": 2,
   "metadata": {
    "id": "_O4-UnFkxt0X"
   },
   "outputs": [
    {
     "name": "stderr",
     "output_type": "stream",
     "text": [
      "/home/015266823/venv/lib/python3.6/site-packages/pandas/compat/__init__.py:120: UserWarning: Could not import the lzma module. Your installed Python is incomplete. Attempting to use lzma compression will result in a RuntimeError.\n",
      "  warnings.warn(msg)\n"
     ]
    }
   ],
   "source": [
    "import numpy as np\n",
    "import sklearn as sk\n",
    "import pandas as pd\n",
    "from sklearn.model_selection import train_test_split\n",
    "import random"
   ]
  },
  {
   "cell_type": "code",
   "execution_count": 3,
   "metadata": {
    "colab": {
     "base_uri": "https://localhost:8080/"
    },
    "id": "OBMwD98OUpOn",
    "outputId": "8120aa9d-fdd8-4e60-f2fb-ee04d6e8fb23"
   },
   "outputs": [
    {
     "name": "stdout",
     "output_type": "stream",
     "text": [
      "1.1.5\n"
     ]
    }
   ],
   "source": [
    "print(pd.__version__)"
   ]
  },
  {
   "cell_type": "markdown",
   "metadata": {
    "id": "QR26olreA0MR"
   },
   "source": [
    "# Preprocessing"
   ]
  },
  {
   "cell_type": "code",
   "execution_count": 4,
   "metadata": {
    "id": "8cEacH3SHfRV"
   },
   "outputs": [],
   "source": [
    "DATA_PATH = \"/home/015266823/bookmooch/bm1y\"\n",
    "\n",
    "def read_data_into_dfs(path):\n",
    "  have_df = pd.read_csv(f\"{DATA_PATH}/have.csv\", names=[\"user_id\", \"item_id\", \"unix_timestamp\"])\n",
    "  wish_df = pd.read_csv(f\"{DATA_PATH}/wish.csv\", names=[\"user_id\", \"item_id\", \"unix_timestamp\"])\n",
    "  pairs_df = pd.read_csv(f\"{DATA_PATH}/pairs.csv\", names=[\"user1_id\", \"item1_id\", \"user2_id\", \"item2_id\"])\n",
    "  transac_df = pd.read_csv(f\"{DATA_PATH}/transac.csv\", names=[\"giver_user_id\", \"receiver_user_id\", \"item_id\", \"unix_timestamp\"])\n",
    "  return have_df, wish_df, pairs_df, transac_df\n",
    "\n",
    "have_df, wish_df, pairs_df, transac_df = read_data_into_dfs(DATA_PATH)"
   ]
  },
  {
   "cell_type": "code",
   "execution_count": 5,
   "metadata": {
    "colab": {
     "base_uri": "https://localhost:8080/",
     "height": 80
    },
    "id": "qw6gJIpizscX",
    "outputId": "8c833d5e-ec94-47ac-fd0a-7029b05e8eb1"
   },
   "outputs": [
    {
     "data": {
      "text/html": [
       "<div>\n",
       "<style scoped>\n",
       "    .dataframe tbody tr th:only-of-type {\n",
       "        vertical-align: middle;\n",
       "    }\n",
       "\n",
       "    .dataframe tbody tr th {\n",
       "        vertical-align: top;\n",
       "    }\n",
       "\n",
       "    .dataframe thead th {\n",
       "        text-align: right;\n",
       "    }\n",
       "</style>\n",
       "<table border=\"1\" class=\"dataframe\">\n",
       "  <thead>\n",
       "    <tr style=\"text-align: right;\">\n",
       "      <th></th>\n",
       "      <th>user_id</th>\n",
       "      <th>item_id</th>\n",
       "      <th>unix_timestamp</th>\n",
       "    </tr>\n",
       "  </thead>\n",
       "  <tbody>\n",
       "    <tr>\n",
       "      <th>0</th>\n",
       "      <td>41</td>\n",
       "      <td>415868</td>\n",
       "      <td>1421536572</td>\n",
       "    </tr>\n",
       "  </tbody>\n",
       "</table>\n",
       "</div>"
      ],
      "text/plain": [
       "   user_id  item_id  unix_timestamp\n",
       "0       41   415868      1421536572"
      ]
     },
     "execution_count": 5,
     "metadata": {},
     "output_type": "execute_result"
    }
   ],
   "source": [
    "have_df.head(1)"
   ]
  },
  {
   "cell_type": "code",
   "execution_count": 6,
   "metadata": {
    "colab": {
     "base_uri": "https://localhost:8080/",
     "height": 80
    },
    "id": "B12R4BoqXddm",
    "outputId": "792a4d12-6047-44a9-e617-fd8e31aa6dee"
   },
   "outputs": [
    {
     "data": {
      "text/html": [
       "<div>\n",
       "<style scoped>\n",
       "    .dataframe tbody tr th:only-of-type {\n",
       "        vertical-align: middle;\n",
       "    }\n",
       "\n",
       "    .dataframe tbody tr th {\n",
       "        vertical-align: top;\n",
       "    }\n",
       "\n",
       "    .dataframe thead th {\n",
       "        text-align: right;\n",
       "    }\n",
       "</style>\n",
       "<table border=\"1\" class=\"dataframe\">\n",
       "  <thead>\n",
       "    <tr style=\"text-align: right;\">\n",
       "      <th></th>\n",
       "      <th>user_id</th>\n",
       "      <th>item_id</th>\n",
       "      <th>unix_timestamp</th>\n",
       "    </tr>\n",
       "  </thead>\n",
       "  <tbody>\n",
       "    <tr>\n",
       "      <th>0</th>\n",
       "      <td>41</td>\n",
       "      <td>12889</td>\n",
       "      <td>1425062294</td>\n",
       "    </tr>\n",
       "  </tbody>\n",
       "</table>\n",
       "</div>"
      ],
      "text/plain": [
       "   user_id  item_id  unix_timestamp\n",
       "0       41    12889      1425062294"
      ]
     },
     "execution_count": 6,
     "metadata": {},
     "output_type": "execute_result"
    }
   ],
   "source": [
    "wish_df.head(1)"
   ]
  },
  {
   "cell_type": "code",
   "execution_count": 7,
   "metadata": {
    "colab": {
     "base_uri": "https://localhost:8080/",
     "height": 80
    },
    "id": "VMPCWlWwXkEX",
    "outputId": "c9a4dc0f-76e0-4664-b74e-966b820c4e1f"
   },
   "outputs": [
    {
     "data": {
      "text/html": [
       "<div>\n",
       "<style scoped>\n",
       "    .dataframe tbody tr th:only-of-type {\n",
       "        vertical-align: middle;\n",
       "    }\n",
       "\n",
       "    .dataframe tbody tr th {\n",
       "        vertical-align: top;\n",
       "    }\n",
       "\n",
       "    .dataframe thead th {\n",
       "        text-align: right;\n",
       "    }\n",
       "</style>\n",
       "<table border=\"1\" class=\"dataframe\">\n",
       "  <thead>\n",
       "    <tr style=\"text-align: right;\">\n",
       "      <th></th>\n",
       "      <th>user1_id</th>\n",
       "      <th>item1_id</th>\n",
       "      <th>user2_id</th>\n",
       "      <th>item2_id</th>\n",
       "    </tr>\n",
       "  </thead>\n",
       "  <tbody>\n",
       "    <tr>\n",
       "      <th>0</th>\n",
       "      <td>80555</td>\n",
       "      <td>84914</td>\n",
       "      <td>5616</td>\n",
       "      <td>495048</td>\n",
       "    </tr>\n",
       "  </tbody>\n",
       "</table>\n",
       "</div>"
      ],
      "text/plain": [
       "   user1_id  item1_id  user2_id  item2_id\n",
       "0     80555     84914      5616    495048"
      ]
     },
     "execution_count": 7,
     "metadata": {},
     "output_type": "execute_result"
    }
   ],
   "source": [
    "pairs_df.head(1)"
   ]
  },
  {
   "cell_type": "code",
   "execution_count": 8,
   "metadata": {
    "colab": {
     "base_uri": "https://localhost:8080/",
     "height": 80
    },
    "id": "PERB0I8JXnVM",
    "outputId": "3e3e14b8-aed3-4848-aba8-4ad752fd92fe"
   },
   "outputs": [
    {
     "data": {
      "text/html": [
       "<div>\n",
       "<style scoped>\n",
       "    .dataframe tbody tr th:only-of-type {\n",
       "        vertical-align: middle;\n",
       "    }\n",
       "\n",
       "    .dataframe tbody tr th {\n",
       "        vertical-align: top;\n",
       "    }\n",
       "\n",
       "    .dataframe thead th {\n",
       "        text-align: right;\n",
       "    }\n",
       "</style>\n",
       "<table border=\"1\" class=\"dataframe\">\n",
       "  <thead>\n",
       "    <tr style=\"text-align: right;\">\n",
       "      <th></th>\n",
       "      <th>giver_user_id</th>\n",
       "      <th>receiver_user_id</th>\n",
       "      <th>item_id</th>\n",
       "      <th>unix_timestamp</th>\n",
       "    </tr>\n",
       "  </thead>\n",
       "  <tbody>\n",
       "    <tr>\n",
       "      <th>0</th>\n",
       "      <td>38</td>\n",
       "      <td>15502</td>\n",
       "      <td>354627</td>\n",
       "      <td>1416308635</td>\n",
       "    </tr>\n",
       "  </tbody>\n",
       "</table>\n",
       "</div>"
      ],
      "text/plain": [
       "   giver_user_id  receiver_user_id  item_id  unix_timestamp\n",
       "0             38             15502   354627      1416308635"
      ]
     },
     "execution_count": 8,
     "metadata": {},
     "output_type": "execute_result"
    }
   ],
   "source": [
    "transac_df.head(1)"
   ]
  },
  {
   "cell_type": "markdown",
   "metadata": {},
   "source": [
    "### Prepare User-Item Matrix"
   ]
  },
  {
   "cell_type": "code",
   "execution_count": 9,
   "metadata": {
    "id": "KCoWAleUIL_J"
   },
   "outputs": [],
   "source": [
    "def user_item_df(have_df, wish_df, pairs_df, transac_df):\n",
    "  # Grab all the items the user has wished for\n",
    "  wished_for = wish_df[['user_id',\t'item_id']]\n",
    "\n",
    "  # Get items from the transactions.\n",
    "  transacted = transac_df[['receiver_user_id', 'item_id']].rename({'receiver_user_id': 'user_id'}, axis='columns')\n",
    "\n",
    "  # Combine the wished for and transaction dataframe\n",
    "  user_item = pd.concat([wished_for, transacted])\n",
    "\n",
    "  # Add a like column indicating they have liked it.\n",
    "  user_item['like'] = 1\n",
    "\n",
    "  # These are the duplicate entries (that is, when someone got something they wished for)\n",
    "  print(f'Number of user_items before removing duplicates: {user_item.shape[0]}')\n",
    "  print(f'Number of duplicated rows: {user_item[user_item.duplicated()].shape[0]}')\n",
    "  user_item = user_item.drop_duplicates()\n",
    "  print(f'Number of duplicated rows after removing: {user_item[user_item.duplicated()].shape[0]}')\n",
    "  print(f'Number of user_items after removing duplicates: {user_item.shape[0]}')\n",
    "\n",
    "  return user_item"
   ]
  },
  {
   "cell_type": "code",
   "execution_count": 10,
   "metadata": {
    "colab": {
     "base_uri": "https://localhost:8080/"
    },
    "id": "M1sv8JceMGkC",
    "outputId": "4a0e1f77-a4f3-4b77-f9d1-3dc672790e76"
   },
   "outputs": [
    {
     "name": "stdout",
     "output_type": "stream",
     "text": [
      "Number of user_items before removing duplicates: 546785\n",
      "Number of duplicated rows: 8613\n",
      "Number of duplicated rows after removing: 0\n",
      "Number of user_items after removing duplicates: 538172\n"
     ]
    }
   ],
   "source": [
    "\n",
    "user_item = user_item_df(have_df, wish_df, pairs_df, transac_df)"
   ]
  },
  {
   "cell_type": "code",
   "execution_count": 11,
   "metadata": {
    "colab": {
     "base_uri": "https://localhost:8080/"
    },
    "id": "q3BRpb1wOGhD",
    "outputId": "86fdef98-3c6a-465d-b95e-5ca91b5d71b4"
   },
   "outputs": [
    {
     "data": {
      "text/plain": [
       "count    538172.000000\n",
       "mean      43788.941558\n",
       "std       26092.649412\n",
       "min          41.000000\n",
       "25%       21341.000000\n",
       "50%       44447.000000\n",
       "75%       66695.000000\n",
       "max      124671.000000\n",
       "Name: user_id, dtype: float64"
      ]
     },
     "execution_count": 11,
     "metadata": {},
     "output_type": "execute_result"
    }
   ],
   "source": [
    "user_item.user_id.describe()"
   ]
  },
  {
   "cell_type": "markdown",
   "metadata": {},
   "source": [
    "### Change Ids To Sequence"
   ]
  },
  {
   "cell_type": "code",
   "execution_count": 12,
   "metadata": {
    "id": "PxiCaUIJQwdp"
   },
   "outputs": [],
   "source": [
    "def change_ids_to_seq(user_item):\n",
    "  # Create user and item mapping to convert to seq\n",
    "  user_ids = user_item['user_id'].unique()\n",
    "  user_ids.sort()\n",
    "\n",
    "  item_ids = user_item['item_id'].unique()\n",
    "  item_ids.sort()\n",
    "\n",
    "  user_id_map = {real: mapped for mapped, real in enumerate(user_ids)}\n",
    "  item_id_map = {real: mapped for mapped, real in enumerate(item_ids)}\n",
    "\n",
    "  def find_user_id_mapping(user_id, user_id_map):\n",
    "    return user_id_map[user_id]\n",
    "  \n",
    "  def find_item_id_mapping(item_id, item_id_map):\n",
    "    return item_id_map[item_id]\n",
    "\n",
    "  user_item[\"user_id\"] = user_item.apply(lambda s: find_user_id_mapping(s[\"user_id\"], user_id_map), axis=1)\n",
    "  user_item[\"item_id\"] = user_item.apply(lambda s: find_item_id_mapping(s[\"item_id\"], item_id_map), axis=1)\n",
    "  return user_item, user_id_map, item_id_map"
   ]
  },
  {
   "cell_type": "code",
   "execution_count": 13,
   "metadata": {
    "id": "Y3LCLCE7RB-m"
   },
   "outputs": [],
   "source": [
    "user_item, user_id_map, item_id_map = change_ids_to_seq(user_item)"
   ]
  },
  {
   "cell_type": "markdown",
   "metadata": {},
   "source": [
    "### Train-Test Split"
   ]
  },
  {
   "cell_type": "code",
   "execution_count": 14,
   "metadata": {
    "id": "-SghRNl7vXt-"
   },
   "outputs": [],
   "source": [
    "def split_into_test_train(user_item):\n",
    "  train_df, test_df = train_test_split(user_item, test_size=0.2)\n",
    "\n",
    "  test_df_zreos = test_df.copy()\n",
    "  test_df_zreos[\"like\"] = 0\n",
    "  train_df = train_df.append(test_df_zreos)\n",
    "  # train_df[train_df[\"like\"] == 0]\n",
    "\n",
    "  return train_df, test_df"
   ]
  },
  {
   "cell_type": "code",
   "execution_count": 15,
   "metadata": {
    "id": "XUo98ufDvreb"
   },
   "outputs": [],
   "source": [
    "train_df, test_df = split_into_test_train(user_item)"
   ]
  },
  {
   "cell_type": "code",
   "execution_count": 16,
   "metadata": {
    "colab": {
     "base_uri": "https://localhost:8080/",
     "height": 416
    },
    "id": "2FmJrfbmvuS0",
    "outputId": "13da5001-f74b-4b4e-b729-ff97f6db6d83"
   },
   "outputs": [
    {
     "data": {
      "text/html": [
       "<div>\n",
       "<style scoped>\n",
       "    .dataframe tbody tr th:only-of-type {\n",
       "        vertical-align: middle;\n",
       "    }\n",
       "\n",
       "    .dataframe tbody tr th {\n",
       "        vertical-align: top;\n",
       "    }\n",
       "\n",
       "    .dataframe thead th {\n",
       "        text-align: right;\n",
       "    }\n",
       "</style>\n",
       "<table border=\"1\" class=\"dataframe\">\n",
       "  <thead>\n",
       "    <tr style=\"text-align: right;\">\n",
       "      <th></th>\n",
       "      <th>user_id</th>\n",
       "      <th>item_id</th>\n",
       "      <th>like</th>\n",
       "    </tr>\n",
       "  </thead>\n",
       "  <tbody>\n",
       "    <tr>\n",
       "      <th>244918</th>\n",
       "      <td>7181</td>\n",
       "      <td>170092</td>\n",
       "      <td>1</td>\n",
       "    </tr>\n",
       "    <tr>\n",
       "      <th>289696</th>\n",
       "      <td>8343</td>\n",
       "      <td>204289</td>\n",
       "      <td>1</td>\n",
       "    </tr>\n",
       "    <tr>\n",
       "      <th>218390</th>\n",
       "      <td>6371</td>\n",
       "      <td>178162</td>\n",
       "      <td>1</td>\n",
       "    </tr>\n",
       "    <tr>\n",
       "      <th>260569</th>\n",
       "      <td>7639</td>\n",
       "      <td>4343</td>\n",
       "      <td>1</td>\n",
       "    </tr>\n",
       "    <tr>\n",
       "      <th>208198</th>\n",
       "      <td>6157</td>\n",
       "      <td>32132</td>\n",
       "      <td>1</td>\n",
       "    </tr>\n",
       "    <tr>\n",
       "      <th>...</th>\n",
       "      <td>...</td>\n",
       "      <td>...</td>\n",
       "      <td>...</td>\n",
       "    </tr>\n",
       "    <tr>\n",
       "      <th>191949</th>\n",
       "      <td>5571</td>\n",
       "      <td>50413</td>\n",
       "      <td>0</td>\n",
       "    </tr>\n",
       "    <tr>\n",
       "      <th>258054</th>\n",
       "      <td>7604</td>\n",
       "      <td>192515</td>\n",
       "      <td>0</td>\n",
       "    </tr>\n",
       "    <tr>\n",
       "      <th>267994</th>\n",
       "      <td>7736</td>\n",
       "      <td>111646</td>\n",
       "      <td>0</td>\n",
       "    </tr>\n",
       "    <tr>\n",
       "      <th>250909</th>\n",
       "      <td>7370</td>\n",
       "      <td>26299</td>\n",
       "      <td>0</td>\n",
       "    </tr>\n",
       "    <tr>\n",
       "      <th>73516</th>\n",
       "      <td>2012</td>\n",
       "      <td>99928</td>\n",
       "      <td>0</td>\n",
       "    </tr>\n",
       "  </tbody>\n",
       "</table>\n",
       "<p>300000 rows × 3 columns</p>\n",
       "</div>"
      ],
      "text/plain": [
       "        user_id  item_id  like\n",
       "244918     7181   170092     1\n",
       "289696     8343   204289     1\n",
       "218390     6371   178162     1\n",
       "260569     7639     4343     1\n",
       "208198     6157    32132     1\n",
       "...         ...      ...   ...\n",
       "191949     5571    50413     0\n",
       "258054     7604   192515     0\n",
       "267994     7736   111646     0\n",
       "250909     7370    26299     0\n",
       "73516      2012    99928     0\n",
       "\n",
       "[300000 rows x 3 columns]"
      ]
     },
     "execution_count": 16,
     "metadata": {},
     "output_type": "execute_result"
    }
   ],
   "source": [
    "train_df"
   ]
  },
  {
   "cell_type": "code",
   "execution_count": 17,
   "metadata": {
    "colab": {
     "base_uri": "https://localhost:8080/",
     "height": 416
    },
    "id": "yMC5xobhvxFy",
    "outputId": "2114d4db-4001-4d55-baea-a7655fae412e"
   },
   "outputs": [
    {
     "data": {
      "text/html": [
       "<div>\n",
       "<style scoped>\n",
       "    .dataframe tbody tr th:only-of-type {\n",
       "        vertical-align: middle;\n",
       "    }\n",
       "\n",
       "    .dataframe tbody tr th {\n",
       "        vertical-align: top;\n",
       "    }\n",
       "\n",
       "    .dataframe thead th {\n",
       "        text-align: right;\n",
       "    }\n",
       "</style>\n",
       "<table border=\"1\" class=\"dataframe\">\n",
       "  <thead>\n",
       "    <tr style=\"text-align: right;\">\n",
       "      <th></th>\n",
       "      <th>user_id</th>\n",
       "      <th>item_id</th>\n",
       "      <th>like</th>\n",
       "    </tr>\n",
       "  </thead>\n",
       "  <tbody>\n",
       "    <tr>\n",
       "      <th>134845</th>\n",
       "      <td>3642</td>\n",
       "      <td>59431</td>\n",
       "      <td>1</td>\n",
       "    </tr>\n",
       "    <tr>\n",
       "      <th>49382</th>\n",
       "      <td>1170</td>\n",
       "      <td>12795</td>\n",
       "      <td>1</td>\n",
       "    </tr>\n",
       "    <tr>\n",
       "      <th>291752</th>\n",
       "      <td>8425</td>\n",
       "      <td>97971</td>\n",
       "      <td>1</td>\n",
       "    </tr>\n",
       "    <tr>\n",
       "      <th>68307</th>\n",
       "      <td>1835</td>\n",
       "      <td>95508</td>\n",
       "      <td>1</td>\n",
       "    </tr>\n",
       "    <tr>\n",
       "      <th>260671</th>\n",
       "      <td>7647</td>\n",
       "      <td>111724</td>\n",
       "      <td>1</td>\n",
       "    </tr>\n",
       "    <tr>\n",
       "      <th>...</th>\n",
       "      <td>...</td>\n",
       "      <td>...</td>\n",
       "      <td>...</td>\n",
       "    </tr>\n",
       "    <tr>\n",
       "      <th>191949</th>\n",
       "      <td>5571</td>\n",
       "      <td>50413</td>\n",
       "      <td>1</td>\n",
       "    </tr>\n",
       "    <tr>\n",
       "      <th>258054</th>\n",
       "      <td>7604</td>\n",
       "      <td>192515</td>\n",
       "      <td>1</td>\n",
       "    </tr>\n",
       "    <tr>\n",
       "      <th>267994</th>\n",
       "      <td>7736</td>\n",
       "      <td>111646</td>\n",
       "      <td>1</td>\n",
       "    </tr>\n",
       "    <tr>\n",
       "      <th>250909</th>\n",
       "      <td>7370</td>\n",
       "      <td>26299</td>\n",
       "      <td>1</td>\n",
       "    </tr>\n",
       "    <tr>\n",
       "      <th>73516</th>\n",
       "      <td>2012</td>\n",
       "      <td>99928</td>\n",
       "      <td>1</td>\n",
       "    </tr>\n",
       "  </tbody>\n",
       "</table>\n",
       "<p>60000 rows × 3 columns</p>\n",
       "</div>"
      ],
      "text/plain": [
       "        user_id  item_id  like\n",
       "134845     3642    59431     1\n",
       "49382      1170    12795     1\n",
       "291752     8425    97971     1\n",
       "68307      1835    95508     1\n",
       "260671     7647   111724     1\n",
       "...         ...      ...   ...\n",
       "191949     5571    50413     1\n",
       "258054     7604   192515     1\n",
       "267994     7736   111646     1\n",
       "250909     7370    26299     1\n",
       "73516      2012    99928     1\n",
       "\n",
       "[60000 rows x 3 columns]"
      ]
     },
     "execution_count": 17,
     "metadata": {},
     "output_type": "execute_result"
    }
   ],
   "source": [
    "test_df"
   ]
  },
  {
   "cell_type": "markdown",
   "metadata": {
    "id": "gjF7-thsA7kF"
   },
   "source": [
    "# Modeling Basic User Preferences\n",
    "\n",
    "\n",
    "\n"
   ]
  },
  {
   "cell_type": "code",
   "execution_count": 18,
   "metadata": {
    "id": "csaXM2TixLBg"
   },
   "outputs": [],
   "source": [
    "def get_train_matrix(train_df):\n",
    "  # Get the training matrix with 0s entered for all user-item combos.\n",
    "  train_matrix_df = train_df.pivot(index='user_id', columns ='item_id', values = 'like').fillna(0)\n",
    "  return train_matrix_df"
   ]
  },
  {
   "cell_type": "code",
   "execution_count": 19,
   "metadata": {
    "id": "44tlvgWkv3Lu"
   },
   "outputs": [],
   "source": [
    "matrix_df = get_train_matrix(train_df)"
   ]
  },
  {
   "cell_type": "code",
   "execution_count": 20,
   "metadata": {
    "colab": {
     "base_uri": "https://localhost:8080/",
     "height": 466
    },
    "id": "1J-MTZO3xgIN",
    "outputId": "c7471498-af8b-4f23-b443-5fbd06027d06"
   },
   "outputs": [
    {
     "data": {
      "text/html": [
       "<div>\n",
       "<style scoped>\n",
       "    .dataframe tbody tr th:only-of-type {\n",
       "        vertical-align: middle;\n",
       "    }\n",
       "\n",
       "    .dataframe tbody tr th {\n",
       "        vertical-align: top;\n",
       "    }\n",
       "\n",
       "    .dataframe thead th {\n",
       "        text-align: right;\n",
       "    }\n",
       "</style>\n",
       "<table border=\"1\" class=\"dataframe\">\n",
       "  <thead>\n",
       "    <tr style=\"text-align: right;\">\n",
       "      <th>item_id</th>\n",
       "      <th>0</th>\n",
       "      <th>1</th>\n",
       "      <th>2</th>\n",
       "      <th>3</th>\n",
       "      <th>4</th>\n",
       "      <th>5</th>\n",
       "      <th>6</th>\n",
       "      <th>7</th>\n",
       "      <th>8</th>\n",
       "      <th>9</th>\n",
       "      <th>...</th>\n",
       "      <th>207320</th>\n",
       "      <th>207321</th>\n",
       "      <th>207322</th>\n",
       "      <th>207323</th>\n",
       "      <th>207324</th>\n",
       "      <th>207325</th>\n",
       "      <th>207326</th>\n",
       "      <th>207327</th>\n",
       "      <th>207328</th>\n",
       "      <th>207329</th>\n",
       "    </tr>\n",
       "    <tr>\n",
       "      <th>user_id</th>\n",
       "      <th></th>\n",
       "      <th></th>\n",
       "      <th></th>\n",
       "      <th></th>\n",
       "      <th></th>\n",
       "      <th></th>\n",
       "      <th></th>\n",
       "      <th></th>\n",
       "      <th></th>\n",
       "      <th></th>\n",
       "      <th></th>\n",
       "      <th></th>\n",
       "      <th></th>\n",
       "      <th></th>\n",
       "      <th></th>\n",
       "      <th></th>\n",
       "      <th></th>\n",
       "      <th></th>\n",
       "      <th></th>\n",
       "      <th></th>\n",
       "      <th></th>\n",
       "    </tr>\n",
       "  </thead>\n",
       "  <tbody>\n",
       "    <tr>\n",
       "      <th>0</th>\n",
       "      <td>0.0</td>\n",
       "      <td>0.0</td>\n",
       "      <td>0.0</td>\n",
       "      <td>0.0</td>\n",
       "      <td>0.0</td>\n",
       "      <td>0.0</td>\n",
       "      <td>0.0</td>\n",
       "      <td>0.0</td>\n",
       "      <td>0.0</td>\n",
       "      <td>0.0</td>\n",
       "      <td>...</td>\n",
       "      <td>0.0</td>\n",
       "      <td>0.0</td>\n",
       "      <td>0.0</td>\n",
       "      <td>0.0</td>\n",
       "      <td>0.0</td>\n",
       "      <td>0.0</td>\n",
       "      <td>0.0</td>\n",
       "      <td>0.0</td>\n",
       "      <td>0.0</td>\n",
       "      <td>0.0</td>\n",
       "    </tr>\n",
       "    <tr>\n",
       "      <th>1</th>\n",
       "      <td>0.0</td>\n",
       "      <td>0.0</td>\n",
       "      <td>0.0</td>\n",
       "      <td>0.0</td>\n",
       "      <td>0.0</td>\n",
       "      <td>0.0</td>\n",
       "      <td>0.0</td>\n",
       "      <td>0.0</td>\n",
       "      <td>0.0</td>\n",
       "      <td>0.0</td>\n",
       "      <td>...</td>\n",
       "      <td>0.0</td>\n",
       "      <td>0.0</td>\n",
       "      <td>0.0</td>\n",
       "      <td>0.0</td>\n",
       "      <td>0.0</td>\n",
       "      <td>0.0</td>\n",
       "      <td>0.0</td>\n",
       "      <td>0.0</td>\n",
       "      <td>0.0</td>\n",
       "      <td>0.0</td>\n",
       "    </tr>\n",
       "    <tr>\n",
       "      <th>2</th>\n",
       "      <td>0.0</td>\n",
       "      <td>0.0</td>\n",
       "      <td>0.0</td>\n",
       "      <td>0.0</td>\n",
       "      <td>0.0</td>\n",
       "      <td>0.0</td>\n",
       "      <td>0.0</td>\n",
       "      <td>0.0</td>\n",
       "      <td>0.0</td>\n",
       "      <td>0.0</td>\n",
       "      <td>...</td>\n",
       "      <td>0.0</td>\n",
       "      <td>0.0</td>\n",
       "      <td>0.0</td>\n",
       "      <td>0.0</td>\n",
       "      <td>0.0</td>\n",
       "      <td>0.0</td>\n",
       "      <td>0.0</td>\n",
       "      <td>0.0</td>\n",
       "      <td>0.0</td>\n",
       "      <td>0.0</td>\n",
       "    </tr>\n",
       "    <tr>\n",
       "      <th>3</th>\n",
       "      <td>0.0</td>\n",
       "      <td>0.0</td>\n",
       "      <td>0.0</td>\n",
       "      <td>0.0</td>\n",
       "      <td>0.0</td>\n",
       "      <td>0.0</td>\n",
       "      <td>0.0</td>\n",
       "      <td>0.0</td>\n",
       "      <td>0.0</td>\n",
       "      <td>0.0</td>\n",
       "      <td>...</td>\n",
       "      <td>0.0</td>\n",
       "      <td>0.0</td>\n",
       "      <td>0.0</td>\n",
       "      <td>0.0</td>\n",
       "      <td>0.0</td>\n",
       "      <td>0.0</td>\n",
       "      <td>0.0</td>\n",
       "      <td>0.0</td>\n",
       "      <td>0.0</td>\n",
       "      <td>0.0</td>\n",
       "    </tr>\n",
       "    <tr>\n",
       "      <th>4</th>\n",
       "      <td>0.0</td>\n",
       "      <td>0.0</td>\n",
       "      <td>0.0</td>\n",
       "      <td>0.0</td>\n",
       "      <td>0.0</td>\n",
       "      <td>0.0</td>\n",
       "      <td>0.0</td>\n",
       "      <td>0.0</td>\n",
       "      <td>0.0</td>\n",
       "      <td>0.0</td>\n",
       "      <td>...</td>\n",
       "      <td>0.0</td>\n",
       "      <td>0.0</td>\n",
       "      <td>0.0</td>\n",
       "      <td>0.0</td>\n",
       "      <td>0.0</td>\n",
       "      <td>0.0</td>\n",
       "      <td>0.0</td>\n",
       "      <td>0.0</td>\n",
       "      <td>0.0</td>\n",
       "      <td>0.0</td>\n",
       "    </tr>\n",
       "    <tr>\n",
       "      <th>...</th>\n",
       "      <td>...</td>\n",
       "      <td>...</td>\n",
       "      <td>...</td>\n",
       "      <td>...</td>\n",
       "      <td>...</td>\n",
       "      <td>...</td>\n",
       "      <td>...</td>\n",
       "      <td>...</td>\n",
       "      <td>...</td>\n",
       "      <td>...</td>\n",
       "      <td>...</td>\n",
       "      <td>...</td>\n",
       "      <td>...</td>\n",
       "      <td>...</td>\n",
       "      <td>...</td>\n",
       "      <td>...</td>\n",
       "      <td>...</td>\n",
       "      <td>...</td>\n",
       "      <td>...</td>\n",
       "      <td>...</td>\n",
       "      <td>...</td>\n",
       "    </tr>\n",
       "    <tr>\n",
       "      <th>8613</th>\n",
       "      <td>0.0</td>\n",
       "      <td>0.0</td>\n",
       "      <td>0.0</td>\n",
       "      <td>0.0</td>\n",
       "      <td>0.0</td>\n",
       "      <td>0.0</td>\n",
       "      <td>0.0</td>\n",
       "      <td>0.0</td>\n",
       "      <td>0.0</td>\n",
       "      <td>0.0</td>\n",
       "      <td>...</td>\n",
       "      <td>0.0</td>\n",
       "      <td>0.0</td>\n",
       "      <td>0.0</td>\n",
       "      <td>0.0</td>\n",
       "      <td>0.0</td>\n",
       "      <td>0.0</td>\n",
       "      <td>0.0</td>\n",
       "      <td>0.0</td>\n",
       "      <td>0.0</td>\n",
       "      <td>0.0</td>\n",
       "    </tr>\n",
       "    <tr>\n",
       "      <th>8614</th>\n",
       "      <td>0.0</td>\n",
       "      <td>0.0</td>\n",
       "      <td>0.0</td>\n",
       "      <td>0.0</td>\n",
       "      <td>0.0</td>\n",
       "      <td>0.0</td>\n",
       "      <td>0.0</td>\n",
       "      <td>0.0</td>\n",
       "      <td>0.0</td>\n",
       "      <td>0.0</td>\n",
       "      <td>...</td>\n",
       "      <td>0.0</td>\n",
       "      <td>0.0</td>\n",
       "      <td>0.0</td>\n",
       "      <td>0.0</td>\n",
       "      <td>0.0</td>\n",
       "      <td>0.0</td>\n",
       "      <td>0.0</td>\n",
       "      <td>0.0</td>\n",
       "      <td>0.0</td>\n",
       "      <td>0.0</td>\n",
       "    </tr>\n",
       "    <tr>\n",
       "      <th>8615</th>\n",
       "      <td>0.0</td>\n",
       "      <td>0.0</td>\n",
       "      <td>0.0</td>\n",
       "      <td>0.0</td>\n",
       "      <td>0.0</td>\n",
       "      <td>0.0</td>\n",
       "      <td>0.0</td>\n",
       "      <td>0.0</td>\n",
       "      <td>0.0</td>\n",
       "      <td>0.0</td>\n",
       "      <td>...</td>\n",
       "      <td>0.0</td>\n",
       "      <td>0.0</td>\n",
       "      <td>0.0</td>\n",
       "      <td>0.0</td>\n",
       "      <td>0.0</td>\n",
       "      <td>0.0</td>\n",
       "      <td>0.0</td>\n",
       "      <td>0.0</td>\n",
       "      <td>0.0</td>\n",
       "      <td>0.0</td>\n",
       "    </tr>\n",
       "    <tr>\n",
       "      <th>8616</th>\n",
       "      <td>0.0</td>\n",
       "      <td>0.0</td>\n",
       "      <td>0.0</td>\n",
       "      <td>0.0</td>\n",
       "      <td>0.0</td>\n",
       "      <td>0.0</td>\n",
       "      <td>0.0</td>\n",
       "      <td>0.0</td>\n",
       "      <td>0.0</td>\n",
       "      <td>0.0</td>\n",
       "      <td>...</td>\n",
       "      <td>0.0</td>\n",
       "      <td>0.0</td>\n",
       "      <td>0.0</td>\n",
       "      <td>0.0</td>\n",
       "      <td>0.0</td>\n",
       "      <td>0.0</td>\n",
       "      <td>0.0</td>\n",
       "      <td>0.0</td>\n",
       "      <td>0.0</td>\n",
       "      <td>0.0</td>\n",
       "    </tr>\n",
       "    <tr>\n",
       "      <th>8617</th>\n",
       "      <td>0.0</td>\n",
       "      <td>0.0</td>\n",
       "      <td>0.0</td>\n",
       "      <td>0.0</td>\n",
       "      <td>0.0</td>\n",
       "      <td>0.0</td>\n",
       "      <td>0.0</td>\n",
       "      <td>0.0</td>\n",
       "      <td>0.0</td>\n",
       "      <td>0.0</td>\n",
       "      <td>...</td>\n",
       "      <td>1.0</td>\n",
       "      <td>1.0</td>\n",
       "      <td>0.0</td>\n",
       "      <td>1.0</td>\n",
       "      <td>1.0</td>\n",
       "      <td>1.0</td>\n",
       "      <td>0.0</td>\n",
       "      <td>1.0</td>\n",
       "      <td>1.0</td>\n",
       "      <td>1.0</td>\n",
       "    </tr>\n",
       "  </tbody>\n",
       "</table>\n",
       "<p>8618 rows × 207330 columns</p>\n",
       "</div>"
      ],
      "text/plain": [
       "item_id  0       1       2       3       4       5       6       7       \\\n",
       "user_id                                                                   \n",
       "0           0.0     0.0     0.0     0.0     0.0     0.0     0.0     0.0   \n",
       "1           0.0     0.0     0.0     0.0     0.0     0.0     0.0     0.0   \n",
       "2           0.0     0.0     0.0     0.0     0.0     0.0     0.0     0.0   \n",
       "3           0.0     0.0     0.0     0.0     0.0     0.0     0.0     0.0   \n",
       "4           0.0     0.0     0.0     0.0     0.0     0.0     0.0     0.0   \n",
       "...         ...     ...     ...     ...     ...     ...     ...     ...   \n",
       "8613        0.0     0.0     0.0     0.0     0.0     0.0     0.0     0.0   \n",
       "8614        0.0     0.0     0.0     0.0     0.0     0.0     0.0     0.0   \n",
       "8615        0.0     0.0     0.0     0.0     0.0     0.0     0.0     0.0   \n",
       "8616        0.0     0.0     0.0     0.0     0.0     0.0     0.0     0.0   \n",
       "8617        0.0     0.0     0.0     0.0     0.0     0.0     0.0     0.0   \n",
       "\n",
       "item_id  8       9       ...  207320  207321  207322  207323  207324  207325  \\\n",
       "user_id                  ...                                                   \n",
       "0           0.0     0.0  ...     0.0     0.0     0.0     0.0     0.0     0.0   \n",
       "1           0.0     0.0  ...     0.0     0.0     0.0     0.0     0.0     0.0   \n",
       "2           0.0     0.0  ...     0.0     0.0     0.0     0.0     0.0     0.0   \n",
       "3           0.0     0.0  ...     0.0     0.0     0.0     0.0     0.0     0.0   \n",
       "4           0.0     0.0  ...     0.0     0.0     0.0     0.0     0.0     0.0   \n",
       "...         ...     ...  ...     ...     ...     ...     ...     ...     ...   \n",
       "8613        0.0     0.0  ...     0.0     0.0     0.0     0.0     0.0     0.0   \n",
       "8614        0.0     0.0  ...     0.0     0.0     0.0     0.0     0.0     0.0   \n",
       "8615        0.0     0.0  ...     0.0     0.0     0.0     0.0     0.0     0.0   \n",
       "8616        0.0     0.0  ...     0.0     0.0     0.0     0.0     0.0     0.0   \n",
       "8617        0.0     0.0  ...     1.0     1.0     0.0     1.0     1.0     1.0   \n",
       "\n",
       "item_id  207326  207327  207328  207329  \n",
       "user_id                                  \n",
       "0           0.0     0.0     0.0     0.0  \n",
       "1           0.0     0.0     0.0     0.0  \n",
       "2           0.0     0.0     0.0     0.0  \n",
       "3           0.0     0.0     0.0     0.0  \n",
       "4           0.0     0.0     0.0     0.0  \n",
       "...         ...     ...     ...     ...  \n",
       "8613        0.0     0.0     0.0     0.0  \n",
       "8614        0.0     0.0     0.0     0.0  \n",
       "8615        0.0     0.0     0.0     0.0  \n",
       "8616        0.0     0.0     0.0     0.0  \n",
       "8617        0.0     1.0     1.0     1.0  \n",
       "\n",
       "[8618 rows x 207330 columns]"
      ]
     },
     "execution_count": 20,
     "metadata": {},
     "output_type": "execute_result"
    }
   ],
   "source": [
    "matrix_df"
   ]
  },
  {
   "cell_type": "code",
   "execution_count": 21,
   "metadata": {
    "id": "TpZY9Wrc1jZb"
   },
   "outputs": [],
   "source": [
    "matrix = matrix_df.to_numpy()"
   ]
  },
  {
   "cell_type": "code",
   "execution_count": 22,
   "metadata": {
    "colab": {
     "base_uri": "https://localhost:8080/"
    },
    "id": "tO3kcdSY0jeW",
    "outputId": "1e8ad61c-1304-464b-811c-50ad21096f43"
   },
   "outputs": [
    {
     "data": {
      "text/plain": [
       "array([[0., 0., 0., ..., 0., 0., 0.],\n",
       "       [0., 0., 0., ..., 0., 0., 0.],\n",
       "       [0., 0., 0., ..., 0., 0., 0.],\n",
       "       ...,\n",
       "       [0., 0., 0., ..., 0., 0., 0.],\n",
       "       [0., 0., 0., ..., 0., 0., 0.],\n",
       "       [0., 0., 0., ..., 1., 1., 1.]])"
      ]
     },
     "execution_count": 22,
     "metadata": {},
     "output_type": "execute_result"
    }
   ],
   "source": [
    "matrix"
   ]
  },
  {
   "cell_type": "markdown",
   "metadata": {
    "id": "hxoa-75sX26F"
   },
   "source": [
    "The first goal of our model is to estimate a user’s preference for an individual item. As our data contains wish lists\n",
    "and past transactions, we use them as implicit feedback signals [18] when building the preference model.\n",
    "\n",
    "\n",
    "Following the approach proposed by Hu et al. [10], the\n",
    "user-item interaction matrix R is built based on implicit\n",
    "feedback signals as follows:\n",
    "\n",
    "(i.e., 1 iff the item belongs to uj ’s wish list, or there exists\n",
    "a past transaction in which uj receives ik).\n",
    "\n",
    "where puj and qik\n",
    "are vectors describing the ‘preferences’ of\n",
    "the user uj and the ‘properties’ of the item ik.\n"
   ]
  },
  {
   "cell_type": "markdown",
   "metadata": {},
   "source": [
    "## Social Bias"
   ]
  },
  {
   "cell_type": "markdown",
   "metadata": {},
   "source": [
    "#### Map Social friendship/Trust between users using their Transaction History"
   ]
  },
  {
   "cell_type": "code",
   "execution_count": 26,
   "metadata": {
    "id": "W2WiPiD0G8mL"
   },
   "outputs": [],
   "source": [
    "#calculating total number of transactions between user1 and user2\n",
    "\n",
    "#Using Dict, key=(giver_user_id,receiver_user_id) ,value = total number of transactions between giver_user_id and receiver_user_id .\n",
    "#return: It is returning dict which contains all the number of transactions between giver and reciever. \n",
    "\n",
    "\n",
    "def transactions_U1_U2(transac_df):\n",
    "  \n",
    "  socialfactorU1_U2_Dict={}\n",
    "  \n",
    "  for i,row in transac_df.iterrows():\n",
    "    # print(i['giver_user_id'])\n",
    "    key=(row['giver_user_id'],row['receiver_user_id'])\n",
    "    if key in socialfactorU1_U2_Dict:\n",
    "      \n",
    "      socialfactorU1_U2_Dict[key]=socialfactorU1_U2_Dict[key]+1\n",
    "    else:\n",
    "      \n",
    "      socialfactorU1_U2_Dict[key]=1\n",
    "  # print(tempkey)\n",
    "  return socialfactorU1_U2_Dict"
   ]
  },
  {
   "cell_type": "code",
   "execution_count": 27,
   "metadata": {},
   "outputs": [],
   "source": [
    "socialfactorU1_U2_Dict=transactions_U1_U2(transac_df)"
   ]
  },
  {
   "cell_type": "code",
   "execution_count": 28,
   "metadata": {},
   "outputs": [
    {
     "data": {
      "text/plain": [
       "109628"
      ]
     },
     "execution_count": 28,
     "metadata": {},
     "output_type": "execute_result"
    }
   ],
   "source": [
    "len(socialfactorU1_U2_Dict)"
   ]
  },
  {
   "cell_type": "markdown",
   "metadata": {},
   "source": [
    "#### Map All the users in Have_df to retrieve the users having a particular Item Id"
   ]
  },
  {
   "cell_type": "code",
   "execution_count": 29,
   "metadata": {},
   "outputs": [],
   "source": [
    "#In this we are retrieving a list of all the users having a specific item in the form of {\"itemid\":[\"user1\",\"user2\"],\"itemid2\":[\"user3\"] }from have_df.\n",
    "#after this we will call recommend a user from above list who is having that item and high social bias score for that particular user.\n",
    "\n",
    "#haveDict is the dictionary for all the users having that item\n",
    "def retrieveAllUsersHavingThatItem(have_df):\n",
    "    \n",
    "    haveDict = {}\n",
    "\n",
    "    tempKey = 0\n",
    "    for i,row in have_df.iterrows():\n",
    "        # print(i['giver_user_id'])\n",
    "        value=row['user_id']\n",
    "        key=row['item_id']\n",
    "        if key in haveDict:\n",
    "            if value not in haveDict[key]:\n",
    "                haveDict[key].append(value)\n",
    "        else:\n",
    "            haveDict[key] = [value]\n",
    "    return haveDict"
   ]
  },
  {
   "cell_type": "code",
   "execution_count": 30,
   "metadata": {},
   "outputs": [],
   "source": [
    "UsersHavingThatItem_map=retrieveAllUsersHavingThatItem(have_df)"
   ]
  },
  {
   "cell_type": "code",
   "execution_count": 31,
   "metadata": {},
   "outputs": [
    {
     "data": {
      "text/plain": [
       "65678"
      ]
     },
     "execution_count": 31,
     "metadata": {},
     "output_type": "execute_result"
    }
   ],
   "source": [
    "len(UsersHavingThatItem_map)"
   ]
  },
  {
   "cell_type": "markdown",
   "metadata": {},
   "source": [
    "#### SocialActivity Factor counts the number of transactions an individual User has done based on his past transactions"
   ]
  },
  {
   "cell_type": "code",
   "execution_count": 32,
   "metadata": {},
   "outputs": [],
   "source": [
    "#Calculating the value of transactionCountFactor to check if the user is socially Active?\n",
    "#Adding the sociallyActiveUserFactor to the result of social bias to get the socialScore\n",
    "\n",
    "\n",
    "#Transaction Count \n",
    "def getSocialActivityFactor(transac_df,pairs_df):\n",
    "    transactionCount = {}\n",
    "    max_variable = 0\n",
    "    #Transactions from transac_df\n",
    "    for i,row in transac_df.iterrows():\n",
    "        # print(i['giver_user_id'])\n",
    "        key1 = row['giver_user_id']\n",
    "        key2 = row['receiver_user_id']\n",
    "\n",
    "        if key1 in transactionCount:\n",
    "            transactionCount[key1] = transactionCount[key1]+1\n",
    "            max_variable = max(max_variable,transactionCount[key1])\n",
    "        else:\n",
    "            transactionCount[key1] = 1\n",
    "\n",
    "        if key2 in transactionCount:\n",
    "            transactionCount[key2] = transactionCount[key2]+1\n",
    "            max_variable = max(max_variable,transactionCount[key2])\n",
    "        else:\n",
    "            transactionCount[key2] = 1\n",
    "            \n",
    "    #Transactions from pairs_df\n",
    "    for i,row in pairs_df.iterrows():\n",
    "        # print(i['giver_user_id'])\n",
    "        key1 = row['user1_id']\n",
    "        key2 = row['user2_id']\n",
    "\n",
    "        if key1 in transactionCount:\n",
    "            transactionCount[key1] = transactionCount[key1]\n",
    "            max_variable = max(max_variable,transactionCount[key1])\n",
    "        else:\n",
    "            transactionCount[key1] = 1\n",
    "        if key2 in transactionCount:\n",
    "            transactionCount[key2] = transactionCount[key2]\n",
    "            max_variable = max(max_variable,transactionCount[key2])\n",
    "        else:\n",
    "            transactionCount[key2] = 1\n",
    "#     print (max_variable) \n",
    "    return transactionCount,max_variable"
   ]
  },
  {
   "cell_type": "code",
   "execution_count": 33,
   "metadata": {},
   "outputs": [],
   "source": [
    "socialActivityDict,maxTransaction= getSocialActivityFactor(transac_df,pairs_df)"
   ]
  },
  {
   "cell_type": "markdown",
   "metadata": {},
   "source": [
    "#### Social Bias Score gives the normalised score based on the User Activity and User-User Transactions"
   ]
  },
  {
   "cell_type": "code",
   "execution_count": 34,
   "metadata": {},
   "outputs": [],
   "source": [
    "def socialBiasScore(userId,itemId):\n",
    "\n",
    "    giverId = 0\n",
    "    maximumScore = 0\n",
    "    if itemId in UsersHavingThatItem_map:\n",
    "        for i in UsersHavingThatItem_map[itemId]:\n",
    "            try:\n",
    "                maximumScore = max(maximumScore,socialfactorU1_U2_Dict[i][userId])\n",
    "                \n",
    "                giverId = i\n",
    "            except:\n",
    "                try:\n",
    "                    maximumScore = max(maximumScore,socialfactorU1_U2_Dict[userId][i])\n",
    "                    giverId = i\n",
    "                except:\n",
    "                    pass\n",
    "    \n",
    "    \n",
    "    if maximumScore == 0:\n",
    "        if userId in socialActivityDict:\n",
    "            return (socialActivityDict[userId]/len(socialActivityDict))\n",
    "        \n",
    "        return 0\n",
    "    \n",
    "\n",
    "    social_bias_score=  (maximumScore/maxTransaction)    \n",
    "    #print(maxTransaction)   \n",
    "    return social_bias_score"
   ]
  },
  {
   "cell_type": "markdown",
   "metadata": {
    "id": "zW9DcFTqyYH3"
   },
   "source": [
    "# Evaluation "
   ]
  },
  {
   "cell_type": "code",
   "execution_count": 35,
   "metadata": {
    "id": "tPAuiJ7ZygLD"
   },
   "outputs": [],
   "source": [
    "def print_full(x):\n",
    "  pd.set_option('display.max_rows', len(x))\n",
    "#   print(x)\n",
    "  pd.reset_option('display.max_rows')\n",
    "\n",
    "\n",
    "def get_test_test_triplates(predicted_user_items_df, test_df, user_item, user_id_map, item_id_map,socialBias):\n",
    "\n",
    "  def find_predicted_for_liked_item(user_id, item_id):\n",
    "    \n",
    "    socialBiasValue = socialBiasScore(user_id,item_id)\n",
    "   \n",
    "    if socialBias:\n",
    "        return predicted_user_items_df.iloc[user_id][item_id].item() + socialBiasValue\n",
    "        #return sum(predicted_user_items_df.iloc[user_id][item_id].item() ,float(socialBiasScore(user_id,item_id,have_df,socialBiasFactorDict)))\n",
    "    else:\n",
    "        return predicted_user_items_df.iloc[user_id][item_id].item()\n",
    "        \n",
    "\n",
    "  def get_random_item_for_user(user_id):\n",
    "    random_item_id = random.randrange(0, len(item_id_map)) \n",
    "\n",
    "    liked_item_ids_for_user = set(user_item[user_item[\"user_id\"] == user_id][\"item_id\"].values)\n",
    "    if not random_item_id in liked_item_ids_for_user:\n",
    "      return random_item_id\n",
    "\n",
    "    while random_item_id in liked_item_ids_for_user:\n",
    "      random_item_id = random.randrange(0, len(item_id_map))\n",
    "    return random_item_id\n",
    "\n",
    "  def find_predicted_for_random_item(user_id, item_id):\n",
    "#     print(user_id)\n",
    "#     print(item_id)\n",
    "    return predicted_user_items_df.iloc[int(user_id)][int(item_id)].item()\n",
    "\n",
    "  \n",
    "  evaluation_df = test_df[[\"user_id\",\t\"item_id\"]].rename({'item_id': 'liked_item_id'}, axis='columns')\n",
    "  evaluation_df[\"prediction_for_liked\"] = evaluation_df.apply(lambda s: find_predicted_for_liked_item(s[\"user_id\"], s[\"liked_item_id\"]), axis=1)\n",
    "  evaluation_df[\"random_item_id\"] = evaluation_df.apply(lambda s: get_random_item_for_user(s[\"user_id\"]), axis=1)\n",
    "  evaluation_df[\"prediction_for_random\"] = evaluation_df.apply(lambda s: find_predicted_for_random_item(s[\"user_id\"], s[\"random_item_id\"]), axis=1)\n",
    "\n",
    "  return evaluation_df"
   ]
  },
  {
   "cell_type": "code",
   "execution_count": 39,
   "metadata": {
    "id": "Z_ONWmbC5Ydi"
   },
   "outputs": [],
   "source": [
    "def evaluation_func(evaluation_df):\n",
    "  def get_difference(liked_item_pred, random_item_pred):\n",
    "    diff = liked_item_pred - random_item_pred\n",
    "    if diff > 0:\n",
    "      return 1\n",
    "    else:\n",
    "      return 0\n",
    "  evaluation_df[\"difference\"] = evaluation_df.apply(lambda s: get_difference(s[\"prediction_for_liked\"], s[\"prediction_for_random\"]), axis=1)\n",
    "  return evaluation_df[\"difference\"].sum()/evaluation_df[\"difference\"].count()"
   ]
  },
  {
   "cell_type": "markdown",
   "metadata": {},
   "source": [
    "# SVD and Results Of Evaluation with and without Social Factor"
   ]
  },
  {
   "cell_type": "code",
   "execution_count": 40,
   "metadata": {},
   "outputs": [
    {
     "name": "stdout",
     "output_type": "stream",
     "text": [
      "N: 50\n",
      "Social Bias: False E: 0.5434833333333333\n",
      "Social Bias: True E: 0.6154833333333334\n",
      "N: 100\n",
      "Social Bias: False E: 0.5713166666666667\n",
      "Social Bias: True E: 0.6355333333333333\n",
      "N: 150\n",
      "Social Bias: False E: 0.5752\n",
      "Social Bias: True E: 0.63785\n",
      "N: 200\n",
      "Social Bias: False E: 0.5646166666666667\n",
      "Social Bias: True E: 0.6283333333333333\n",
      "N: 250\n",
      "Social Bias: False E: 0.5546166666666666\n",
      "Social Bias: True E: 0.6216333333333334\n",
      "N: 300\n",
      "Social Bias: False E: 0.5400833333333334\n",
      "Social Bias: True E: 0.6108833333333333\n",
      "N: 350\n",
      "Social Bias: False E: 0.53425\n",
      "Social Bias: True E: 0.6036\n",
      "N: 400\n",
      "Social Bias: False E: 0.5240333333333334\n",
      "Social Bias: True E: 0.5976333333333333\n",
      "N: 450\n",
      "Social Bias: False E: 0.5171833333333333\n",
      "Social Bias: True E: 0.5867833333333333\n"
     ]
    }
   ],
   "source": [
    "from scipy.sparse.linalg import svds\n",
    "\n",
    "\n",
    "for n in range(50, 500, 50):\n",
    "    \n",
    "    print(f\"N: {n}\")\n",
    "    U, sigma, Vt = svds(matrix, k = n)\n",
    "    sigma = np.diag(sigma)\n",
    "\n",
    "\n",
    "    predicted_user_items = np.dot(np.dot(U, sigma), Vt)\n",
    "    predicted_user_items_df = pd.DataFrame(predicted_user_items, columns = matrix_df.columns)\n",
    "    predicted_user_items_df = predicted_user_items_df.rename_axis('user_id').rename_axis(\"item_id\", axis=\"columns\")\n",
    "\n",
    "    evaluation_df = get_test_test_triplates(predicted_user_items_df, test_df, user_item, user_id_map, item_id_map,False)\n",
    "    e = evaluation_func(evaluation_df)\n",
    "    print(f\"Social Bias: False E: {e}\")\n",
    "\n",
    "    evaluation_df_social = get_test_test_triplates(predicted_user_items_df, test_df, user_item, user_id_map, item_id_map,True)\n",
    "    e = evaluation_func(evaluation_df_social)\n",
    " \n",
    "    print(f\"Social Bias: True E: {e}\")"
   ]
  }
 ],
 "metadata": {
  "accelerator": "GPU",
  "colab": {
   "collapsed_sections": [],
   "machine_shape": "hm",
   "name": "Project.ipynb",
   "provenance": [],
   "toc_visible": true
  },
  "kernelspec": {
   "display_name": "venv-3.6-gpu",
   "language": "python",
   "name": "venv-3.6-gpu"
  },
  "language_info": {
   "codemirror_mode": {
    "name": "ipython",
    "version": 3
   },
   "file_extension": ".py",
   "mimetype": "text/x-python",
   "name": "python",
   "nbconvert_exporter": "python",
   "pygments_lexer": "ipython3",
   "version": "3.6.6"
  }
 },
 "nbformat": 4,
 "nbformat_minor": 4
}
